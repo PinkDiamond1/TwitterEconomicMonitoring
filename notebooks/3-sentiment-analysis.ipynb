{
 "cells": [
  {
   "cell_type": "markdown",
   "metadata": {},
   "source": [
    "[![Open In Colab](https://colab.research.google.com/assets/colab-badge.svg)](https://colab.research.google.com/drive/1DRoXJLoUVVU9RGjfb-bYQhcdhYVD-WrZ)"
   ]
  },
  {
   "cell_type": "markdown",
   "metadata": {},
   "source": [
    "# Notebook #3: tweet sentiment analysis"
   ]
  },
  {
   "cell_type": "markdown",
   "metadata": {},
   "source": [
    "## Description and requirements:"
   ]
  },
  {
   "cell_type": "markdown",
   "metadata": {},
   "source": [
    "In this notebook, you will learn how to perform sentiment analysis on tweets extracted from Twitter in Python.\n",
    "\n",
    "A requirement for this code to work is to have the English version of the Hedonomoter word list, which can be downloaded from [Hedonometer](https://hedonometer.org/). This dataset contains a list of words, in which each word is assigned a \"happiness score\". This happiness score varies between 1 and 9, with 1 being very negative and 9 being very positive. For example the word `coronavirus` received the value of 1.34, while the word `laughter` received 8.5. \n",
    "\n",
    "The method we will use here to measure the sentiment of one tweet is to add up the happiness scores of each word contained in the tweet and divide the total score by the number of words in the tweet.\n"
   ]
  },
  {
   "cell_type": "markdown",
   "metadata": {},
   "source": [
    "### Import modules"
   ]
  },
  {
   "cell_type": "code",
   "execution_count": 1,
   "metadata": {
    "pycharm": {
     "name": "#%%\n"
    }
   },
   "outputs": [
    {
     "name": "stderr",
     "output_type": "stream",
     "text": [
      "e:\\workspace\\python\\python troject\\venv\\lib\\site-packages\\tqdm\\std.py:725: FutureWarning: The Panel class is removed from pandas. Accessing it from the top-level namespace will also be removed in the next version\n",
      "  from pandas import Panel\n"
     ]
    }
   ],
   "source": [
    "import os\n",
    "import re\n",
    "from glob import glob\n",
    "\n",
    "import matplotlib.pyplot as plt\n",
    "import numpy as np\n",
    "import pandas as pd\n",
    "from tqdm.notebook import tqdm\n",
    "\n",
    "tqdm.pandas()\n",
    "\n",
    "path_to_data = './data'\n",
    "path_to_timelines = os.path.join(path_to_data, 'timelines')\n",
    "path_to_sentiment = os.path.join(path_to_data, 'sentiment')\n",
    "hedonometer_path = os.path.join(path_to_data, 'Hedonometer.csv')\n",
    "\n",
    "os.makedirs(path_to_sentiment, exist_ok=True)"
   ]
  },
  {
   "cell_type": "markdown",
   "metadata": {
    "pycharm": {
     "name": "#%% md\n"
    }
   },
   "source": [
    "### Define initial functions"
   ]
  },
  {
   "cell_type": "markdown",
   "metadata": {
    "pycharm": {
     "name": "#%% md\n"
    }
   },
   "source": [
    "First, we will define a function to save data.\n",
    "\n",
    "#### save\n",
    "\n",
    "This function will take as an input:\n",
    "- `df` The DataFrame to save\n",
    "- `path` The path to save the file\n",
    "- `name` The name of the saved file\n",
    "\n",
    "This function will then save the content of the `df` to a local file in `path/name` that we could read later and work on."
   ]
  },
  {
   "cell_type": "code",
   "execution_count": 2,
   "metadata": {
    "pycharm": {
     "name": "#%%\n"
    }
   },
   "outputs": [],
   "source": [
    "def save(df, path, name):\n",
    "    df.to_pickle(os.path.join(path, f'{name}.pkl'))"
   ]
  },
  {
   "cell_type": "markdown",
   "metadata": {
    "pycharm": {
     "name": "#%% md\n"
    }
   },
   "source": [
    "Now that we can save files, we will define a few extra functions that will be used for the sentiment analysis."
   ]
  },
  {
   "cell_type": "markdown",
   "metadata": {},
   "source": [
    "#### sentiment\n",
    "This function will determine the sentiment of a tweet.\n",
    "It will take as an input:\n",
    "- `sentence` which is the tweet to analyze.\n",
    "\n",
    "It then goes over all words in the sentence and compute the average happiness score of all words that appear in the Hedonometer dataset."
   ]
  },
  {
   "cell_type": "code",
   "execution_count": 3,
   "metadata": {
    "pycharm": {
     "name": "#%%\n"
    }
   },
   "outputs": [],
   "source": [
    "def sentiment(sentence):\n",
    "    senti = 0\n",
    "    total = 0\n",
    "    words = sentence.split(\" \")\n",
    "    for word in words:\n",
    "        if word in scores.keys():\n",
    "            senti += scores[word]\n",
    "            total += 1\n",
    "    try:\n",
    "        return senti / total\n",
    "    except ZeroDivisionError:\n",
    "        return 0"
   ]
  },
  {
   "cell_type": "markdown",
   "metadata": {},
   "source": [
    "#### standard_deviation\n",
    "This function will determine the standard deviation of a tweet. **[What is it?]**\n",
    "\n",
    "It will take as an input:\n",
    "- `sentence` which is the sentence (Tweet) to analyze\n",
    "\n",
    "It then goes over all words in the sentence and compute the average standard deviation of all words that appear in the Hedonometer dataset."
   ]
  },
  {
   "cell_type": "code",
   "execution_count": 4,
   "metadata": {
    "pycharm": {
     "name": "#%%\n"
    }
   },
   "outputs": [],
   "source": [
    "def standard_deviation(sentence):\n",
    "    standard_deviation = 0\n",
    "    total = 0\n",
    "    words = sentence.split(\" \")\n",
    "    for word in words:\n",
    "        if word in sds.keys():\n",
    "            standard_deviation += sds[word]\n",
    "            total += 1\n",
    "    try:\n",
    "        return standard_deviation / total\n",
    "    except ZeroDivisionError:\n",
    "        return 0"
   ]
  },
  {
   "cell_type": "markdown",
   "metadata": {},
   "source": [
    "#### grab_hits\n",
    "This function will catch all the matched words from the tweet that appear on the hedonometer.\n",
    "\n",
    "It will take as an input:\n",
    "- `sentence` which is the sentence (Tweet) to analyze\n",
    "\n",
    "It then goes over all words in the sentence, tries to match them with the hedonometer list, and returns the ones that were found."
   ]
  },
  {
   "cell_type": "code",
   "execution_count": 5,
   "metadata": {
    "pycharm": {
     "name": "#%%\n"
    }
   },
   "outputs": [],
   "source": [
    "def grab_hits(sentence):\n",
    "    hits = []\n",
    "    words = sentence.split(\" \")\n",
    "    for word in words:\n",
    "        if word in sds.keys():\n",
    "            hits.append(word)\n",
    "    return hits"
   ]
  },
  {
   "cell_type": "markdown",
   "metadata": {
    "pycharm": {
     "name": "#%% md\n"
    }
   },
   "source": [
    "Now, we would like to do this for each of the tweets in our df. To do this, we will use the `apply` method of a df.\n",
    "This method will run the functions `sentiment`, `standard_deviation`, and `grab_hits` on each of the tweets.\n",
    "After running, it will convert the result to a Pandas series and return it."
   ]
  },
  {
   "cell_type": "code",
   "execution_count": 6,
   "metadata": {
    "pycharm": {
     "name": "#%%\n"
    }
   },
   "outputs": [],
   "source": [
    "# Run sentiment on each tweet\n",
    "def return_sentiment(df):\n",
    "    return pd.Series(df[\"clean_text\"].apply(lambda x: sentiment(x)))\n",
    "\n",
    "# Run standard_deviation on each tweet\n",
    "def return_standard_deviation(df):\n",
    "    return pd.Series(df[\"clean_text\"].apply(lambda x: standard_deviation(x)))\n",
    "\n",
    "# Run grab_hits on each tweet\n",
    "def return_hits(df):\n",
    "    return pd.Series(df[\"clean_text\"].apply(lambda x: grab_hits(x)))"
   ]
  },
  {
   "cell_type": "markdown",
   "metadata": {
    "pycharm": {
     "name": "#%% md\n"
    }
   },
   "source": [
    "### Import translation tools from Notebook #2"
   ]
  },
  {
   "cell_type": "markdown",
   "metadata": {
    "pycharm": {
     "name": "#%% md\n"
    }
   },
   "source": [
    "Since the tweets can be in different languages, we will use the translation method that we covered in [Notebook #2: machine translation](2-machine-translation.ipynb).\n"
   ]
  },
  {
   "cell_type": "code",
   "execution_count": 7,
   "metadata": {
    "pycharm": {
     "name": "#%%\n"
    }
   },
   "outputs": [],
   "source": [
    "import transformers\n",
    "from transformers import MarianMTModel, MarianTokenizer\n",
    "from transformers.hf_api import HfApi"
   ]
  },
  {
   "cell_type": "code",
   "execution_count": 8,
   "metadata": {
    "pycharm": {
     "name": "#%%\n"
    }
   },
   "outputs": [
    {
     "data": {
      "text/plain": [
       "'4.0.1'"
      ]
     },
     "execution_count": 8,
     "metadata": {},
     "output_type": "execute_result"
    }
   ],
   "source": [
    "transformers.__version__"
   ]
  },
  {
   "cell_type": "code",
   "execution_count": 9,
   "metadata": {
    "pycharm": {
     "name": "#%%\n"
    }
   },
   "outputs": [],
   "source": [
    "class Translator:\n",
    "\n",
    "    def __init__(self, src_language, tgt_language):\n",
    "        self.src_language = src_language\n",
    "        self.tgt_language = tgt_language\n",
    "        self.model_name = f'Helsinki-NLP/opus-mt-{src_language}-{tgt_language}'\n",
    "        model_list = HfApi().model_list()\n",
    "        org = \"Helsinki-NLP\"\n",
    "        self.valid_model_names = [x.modelId for x in model_list if x.modelId.startswith(org)]\n",
    "        if self.model_name not in self.valid_model_names:\n",
    "            raise KeyError(f'{self.model_name} is not a valid model name.')\n",
    "\n",
    "    def load_model(self):\n",
    "        \"\"\"Load translation model and tokenizer.\"\"\"\n",
    "        tokenizer = MarianTokenizer.from_pretrained(self.model_name)\n",
    "        model = MarianMTModel.from_pretrained(self.model_name)\n",
    "        return tokenizer, model\n",
    "\n",
    "    def translate(self, src_text, loaded_model):\n",
    "        \"\"\"Use loaded model and tokenizer to translate the source text.\"\"\"\n",
    "        tokenizer, model = loaded_model\n",
    "        translated = model.generate(**tokenizer.prepare_seq2seq_batch([src_text], return_tensors=\"pt\"))\n",
    "        return [tokenizer.decode(t, skip_special_tokens=True) for t in translated][0]"
   ]
  },
  {
   "cell_type": "markdown",
   "metadata": {
    "pycharm": {
     "name": "#%% md\n"
    }
   },
   "source": [
    "Now, we load our Translator model with Urdu as source language and English as target language."
   ]
  },
  {
   "cell_type": "code",
   "execution_count": 10,
   "metadata": {
    "pycharm": {
     "name": "#%%\n"
    }
   },
   "outputs": [],
   "source": [
    "translator = Translator('ur', 'en')\n",
    "model = translator.load_model()"
   ]
  },
  {
   "cell_type": "markdown",
   "metadata": {
    "pycharm": {
     "name": "#%% md\n"
    }
   },
   "source": [
    "### Define cleaning functions"
   ]
  },
  {
   "cell_type": "markdown",
   "metadata": {
    "pycharm": {
     "name": "#%% md\n"
    }
   },
   "source": [
    "In order to clean our tweets from URLs, prefixes and more, we will define the following functions:"
   ]
  },
  {
   "cell_type": "markdown",
   "metadata": {
    "pycharm": {
     "name": "#%% md\n"
    }
   },
   "source": [
    "#### remove_pattern\n",
    "This function will remove a given pattern from the text using regular expression.\n",
    "\n",
    "It will take as an input:\n",
    "- `input_txt` The input text to remove\n",
    "- `pattern` The pattern to remove\n",
    "\n",
    "It will then return the cleaned text."
   ]
  },
  {
   "cell_type": "code",
   "execution_count": 11,
   "metadata": {
    "pycharm": {
     "name": "#%%\n"
    }
   },
   "outputs": [],
   "source": [
    "def remove_pattern(input_txt, pattern):\n",
    "    r = re.findall(pattern, input_txt)\n",
    "    for i in r:\n",
    "        input_txt = re.sub(i, '', input_txt)\n",
    "    return input_txt"
   ]
  },
  {
   "cell_type": "markdown",
   "metadata": {
    "pycharm": {
     "name": "#%% md\n"
    }
   },
   "source": [
    "#### remove_prefix\n",
    "This function will remove a prefix from a given text.\n",
    "\n",
    "It will receive as input:\n",
    "- `text` The text to remove the prefix from\n",
    "- `prefix` The prefix to remove\n",
    "\n",
    "It will then return the cleaned text."
   ]
  },
  {
   "cell_type": "code",
   "execution_count": 12,
   "metadata": {
    "pycharm": {
     "name": "#%%\n"
    }
   },
   "outputs": [],
   "source": [
    "def remove_prefix(text, prefix):\n",
    "    if text.startswith(prefix):\n",
    "        text = text.replace(prefix, \"\", 1)\n",
    "    return text"
   ]
  },
  {
   "cell_type": "markdown",
   "metadata": {
    "pycharm": {
     "name": "#%% md\n"
    }
   },
   "source": [
    "#### clean_and_translate\n",
    "It will clean the tweets from the df using the above functions.\n",
    "This function will receive:\n",
    "- `df` the DataFrame containing all the tweets\n",
    "\n",
    "It will create a new column called `clean_text` in the df that will contain all the clean and translated tweets."
   ]
  },
  {
   "cell_type": "code",
   "execution_count": 13,
   "metadata": {
    "pycharm": {
     "name": "#%%\n"
    }
   },
   "outputs": [],
   "source": [
    "def clean_and_translate(df):\n",
    "    # Remove all url's from the tweet\n",
    "    df['clean_text'] = df['full_text'].str.replace('http\\S+|www.\\S+', '', case=False)\n",
    "    # Remove all \\n from text\n",
    "    df['clean_text'] = np.vectorize(remove_pattern)(df['clean_text'], \"\\n\")\n",
    "    # Remove all @ tags\n",
    "    df['clean_text'] = np.vectorize(remove_pattern)(df['clean_text'], \"@[\\w]*\")\n",
    "    # Remove all RT prefix\n",
    "    df['clean_text'] = df['clean_text'].apply(lambda x: remove_prefix(x, \"RT : \"))\n",
    "    #remove all # tags\n",
    "    df['clean_text'] = np.vectorize(remove_pattern)(df['clean_text'], r\"#(\\w+)\")\n",
    "    # Remove all # from it\n",
    "    df['clean_text'] = df['clean_text'].str.replace('#', '')\n",
    "    # Make the string lower case\n",
    "    df['clean_text'] = df['clean_text'].str.lower()\n",
    "    # remove all the punctuation\n",
    "    df['clean_text'] = df.clean_text.str.replace(r'[^\\w\\s]', '')\n",
    "    # If some tweets were left empty then remove them\n",
    "    df = df[df['clean_text'] != '']\n",
    "    # Translate the tweets and return the DataFrame\n",
    "    df['clean_text'] = df['clean_text'].apply(lambda text: translator.translate(text, model))\n",
    "    return df"
   ]
  },
  {
   "cell_type": "markdown",
   "metadata": {
    "pycharm": {
     "name": "#%% md\n"
    }
   },
   "source": [
    "### Load Hedonometer data"
   ]
  },
  {
   "cell_type": "markdown",
   "metadata": {
    "pycharm": {
     "name": "#%% md\n"
    }
   },
   "source": [
    "Finally, we can load our Hedonometer and start calculating the sentiments of the tweets.\n",
    "First, we will load the Hedonometer scores and store them in a dictionary. Each entry will be in the form of {key: value}, where `key` stands for a word from the list and `value` will be the sentiment score given to it."
   ]
  },
  {
   "cell_type": "code",
   "execution_count": 14,
   "metadata": {
    "pycharm": {
     "name": "#%%\n"
    }
   },
   "outputs": [],
   "source": [
    "file = pd.read_csv(hedonometer_path).sort_values(by='Happiness Score')\n",
    "scores = file[[\"Word\", \"Happiness Score\"]]\n",
    "scores.columns = [\"word\", \"score\"]\n",
    "scores = dict(zip(scores.word, scores.score))"
   ]
  },
  {
   "cell_type": "code",
   "execution_count": 15,
   "metadata": {
    "pycharm": {
     "name": "#%%\n"
    }
   },
   "outputs": [
    {
     "data": {
      "text/html": [
       "<div>\n",
       "<style scoped>\n",
       "    .dataframe tbody tr th:only-of-type {\n",
       "        vertical-align: middle;\n",
       "    }\n",
       "\n",
       "    .dataframe tbody tr th {\n",
       "        vertical-align: top;\n",
       "    }\n",
       "\n",
       "    .dataframe thead th {\n",
       "        text-align: right;\n",
       "    }\n",
       "</style>\n",
       "<table border=\"1\" class=\"dataframe\">\n",
       "  <thead>\n",
       "    <tr style=\"text-align: right;\">\n",
       "      <th></th>\n",
       "      <th>Rank</th>\n",
       "      <th>Word</th>\n",
       "      <th>Word in English</th>\n",
       "      <th>Happiness Score</th>\n",
       "      <th>Standard Deviation of Ratings</th>\n",
       "    </tr>\n",
       "  </thead>\n",
       "  <tbody>\n",
       "    <tr>\n",
       "      <th>10168</th>\n",
       "      <td>10168</td>\n",
       "      <td>suicide</td>\n",
       "      <td>suicide</td>\n",
       "      <td>1.30</td>\n",
       "      <td>0.84</td>\n",
       "    </tr>\n",
       "    <tr>\n",
       "      <th>10169</th>\n",
       "      <td>10169</td>\n",
       "      <td>terrorist</td>\n",
       "      <td>terrorist</td>\n",
       "      <td>1.30</td>\n",
       "      <td>0.91</td>\n",
       "    </tr>\n",
       "    <tr>\n",
       "      <th>10171</th>\n",
       "      <td>10171</td>\n",
       "      <td>coronavirus</td>\n",
       "      <td>coronavirus</td>\n",
       "      <td>1.34</td>\n",
       "      <td>0.66</td>\n",
       "    </tr>\n",
       "    <tr>\n",
       "      <th>10167</th>\n",
       "      <td>10167</td>\n",
       "      <td>rape</td>\n",
       "      <td>rape</td>\n",
       "      <td>1.44</td>\n",
       "      <td>0.79</td>\n",
       "    </tr>\n",
       "    <tr>\n",
       "      <th>10165</th>\n",
       "      <td>10165</td>\n",
       "      <td>murder</td>\n",
       "      <td>murder</td>\n",
       "      <td>1.48</td>\n",
       "      <td>1.01</td>\n",
       "    </tr>\n",
       "  </tbody>\n",
       "</table>\n",
       "</div>"
      ],
      "text/plain": [
       "        Rank         Word Word in English  Happiness Score  \\\n",
       "10168  10168      suicide         suicide             1.30   \n",
       "10169  10169    terrorist       terrorist             1.30   \n",
       "10171  10171  coronavirus     coronavirus             1.34   \n",
       "10167  10167         rape            rape             1.44   \n",
       "10165  10165       murder          murder             1.48   \n",
       "\n",
       "       Standard Deviation of Ratings  \n",
       "10168                           0.84  \n",
       "10169                           0.91  \n",
       "10171                           0.66  \n",
       "10167                           0.79  \n",
       "10165                           1.01  "
      ]
     },
     "execution_count": 15,
     "metadata": {},
     "output_type": "execute_result"
    }
   ],
   "source": [
    "file.head()"
   ]
  },
  {
   "cell_type": "code",
   "execution_count": 16,
   "metadata": {
    "pycharm": {
     "name": "#%%\n"
    }
   },
   "outputs": [
    {
     "data": {
      "text/html": [
       "<div>\n",
       "<style scoped>\n",
       "    .dataframe tbody tr th:only-of-type {\n",
       "        vertical-align: middle;\n",
       "    }\n",
       "\n",
       "    .dataframe tbody tr th {\n",
       "        vertical-align: top;\n",
       "    }\n",
       "\n",
       "    .dataframe thead th {\n",
       "        text-align: right;\n",
       "    }\n",
       "</style>\n",
       "<table border=\"1\" class=\"dataframe\">\n",
       "  <thead>\n",
       "    <tr style=\"text-align: right;\">\n",
       "      <th></th>\n",
       "      <th>Rank</th>\n",
       "      <th>Word</th>\n",
       "      <th>Word in English</th>\n",
       "      <th>Happiness Score</th>\n",
       "      <th>Standard Deviation of Ratings</th>\n",
       "    </tr>\n",
       "  </thead>\n",
       "  <tbody>\n",
       "    <tr>\n",
       "      <th>4</th>\n",
       "      <td>4</td>\n",
       "      <td>laughed</td>\n",
       "      <td>laughed</td>\n",
       "      <td>8.26</td>\n",
       "      <td>1.16</td>\n",
       "    </tr>\n",
       "    <tr>\n",
       "      <th>3</th>\n",
       "      <td>3</td>\n",
       "      <td>happy</td>\n",
       "      <td>happy</td>\n",
       "      <td>8.30</td>\n",
       "      <td>0.99</td>\n",
       "    </tr>\n",
       "    <tr>\n",
       "      <th>2</th>\n",
       "      <td>2</td>\n",
       "      <td>love</td>\n",
       "      <td>love</td>\n",
       "      <td>8.42</td>\n",
       "      <td>1.11</td>\n",
       "    </tr>\n",
       "    <tr>\n",
       "      <th>1</th>\n",
       "      <td>1</td>\n",
       "      <td>happiness</td>\n",
       "      <td>happiness</td>\n",
       "      <td>8.44</td>\n",
       "      <td>0.97</td>\n",
       "    </tr>\n",
       "    <tr>\n",
       "      <th>0</th>\n",
       "      <td>0</td>\n",
       "      <td>laughter</td>\n",
       "      <td>laughter</td>\n",
       "      <td>8.50</td>\n",
       "      <td>0.93</td>\n",
       "    </tr>\n",
       "  </tbody>\n",
       "</table>\n",
       "</div>"
      ],
      "text/plain": [
       "   Rank       Word Word in English  Happiness Score  \\\n",
       "4     4    laughed         laughed             8.26   \n",
       "3     3      happy           happy             8.30   \n",
       "2     2       love            love             8.42   \n",
       "1     1  happiness       happiness             8.44   \n",
       "0     0   laughter        laughter             8.50   \n",
       "\n",
       "   Standard Deviation of Ratings  \n",
       "4                           1.16  \n",
       "3                           0.99  \n",
       "2                           1.11  \n",
       "1                           0.97  \n",
       "0                           0.93  "
      ]
     },
     "execution_count": 16,
     "metadata": {},
     "output_type": "execute_result"
    }
   ],
   "source": [
    "file.tail()"
   ]
  },
  {
   "cell_type": "markdown",
   "metadata": {
    "pycharm": {
     "name": "#%% md\n"
    }
   },
   "source": [
    "Second, we will load the deviation scores.\n",
    "Again, we will create a dictionary where each entry will be in the form of {key: value}, where `key` stands for a word from the list and `value` will be the standard deviation given to it.\n",
    "Using the same file, we create a dictionary of words and standard deviations of scores."
   ]
  },
  {
   "cell_type": "code",
   "execution_count": 17,
   "metadata": {
    "pycharm": {
     "name": "#%%\n"
    }
   },
   "outputs": [],
   "source": [
    "sds = file[[\"Word\", \"Standard Deviation of Ratings\"]]\n",
    "sds.columns = [\"word\", \"deviation\"]\n",
    "sds = dict(zip(sds.word, sds.deviation))"
   ]
  },
  {
   "cell_type": "markdown",
   "metadata": {
    "pycharm": {
     "name": "#%% md\n"
    }
   },
   "source": [
    "### Example on Pakistani tweets"
   ]
  },
  {
   "cell_type": "markdown",
   "metadata": {
    "pycharm": {
     "name": "#%% md\n"
    }
   },
   "source": [
    "Now, let's run an example on Pakistani tweets we downloaded in [Notebook #1](1-download-from-twitter-api.ipynb) **[Mention the US data and where it comes from]**"
   ]
  },
  {
   "cell_type": "markdown",
   "metadata": {
    "pycharm": {
     "name": "#%% md\n"
    }
   },
   "source": [
    "First we will load out data and take a look at the data"
   ]
  },
  {
   "cell_type": "code",
   "execution_count": 18,
   "metadata": {
    "pycharm": {
     "name": "#%%\n"
    }
   },
   "outputs": [],
   "source": [
    "# Open all Urdu translated tweets from the timelines directory\n",
    "ur_df = pd.read_pickle(os.path.join(path_to_timelines, 'pakistan.pkl'))"
   ]
  },
  {
   "cell_type": "code",
   "execution_count": 19,
   "metadata": {
    "pycharm": {
     "name": "#%%\n"
    }
   },
   "outputs": [],
   "source": [
    "en_df = pd.read_pickle(os.path.join(path_to_timelines, 'usa.pkl'))"
   ]
  },
  {
   "cell_type": "code",
   "execution_count": 20,
   "metadata": {
    "pycharm": {
     "name": "#%%\n"
    }
   },
   "outputs": [
    {
     "data": {
      "text/plain": [
       "(1164, 35)"
      ]
     },
     "execution_count": 20,
     "metadata": {},
     "output_type": "execute_result"
    }
   ],
   "source": [
    "ur_df.shape"
   ]
  },
  {
   "cell_type": "code",
   "execution_count": 21,
   "metadata": {
    "pycharm": {
     "name": "#%%\n"
    }
   },
   "outputs": [
    {
     "data": {
      "text/plain": [
       "0    @MuradSaeedPTI بارش درجن آلو سے نکل کر دیکھو ن...\n",
       "1    پلٹ کر جواب دینا بیشک غلط ھے لیکن سنتے رہو تو ...\n",
       "2    @Anosha11593895 زبان پر قابو رکھنا مشکل ضرور ھ...\n",
       "3    Silence Is the best Answer of All stupids Ques...\n",
       "4    خیالات گہرے رکھو....کردار میں عاجزی خودبخود آئ...\n",
       "Name: full_text, dtype: object"
      ]
     },
     "execution_count": 21,
     "metadata": {},
     "output_type": "execute_result"
    }
   ],
   "source": [
    "# Print the first 5 items\n",
    "ur_df['full_text'].head()"
   ]
  },
  {
   "cell_type": "code",
   "execution_count": 22,
   "metadata": {
    "pycharm": {
     "name": "#%%\n"
    }
   },
   "outputs": [
    {
     "name": "stdout",
     "output_type": "stream",
     "text": [
      "{'id': 1292031528814419970, 'id_str': '1292031528814419970', 'name': 'Atif @👉چوہدری', 'screen_name': 'Atii_Jee', 'location': '', 'description': \"I'm not attractive but definitely interesting👌❤\", 'url': None, 'entities': {'description': {'urls': []}}, 'protected': False, 'followers_count': 773, 'friends_count': 672, 'listed_count': 0, 'created_at': 'Sat Aug 08 09:36:10 +0000 2020', 'favourites_count': 171, 'utc_offset': None, 'time_zone': None, 'geo_enabled': False, 'verified': False, 'statuses_count': 102, 'lang': None, 'contributors_enabled': False, 'is_translator': False, 'is_translation_enabled': False, 'profile_background_color': 'F5F8FA', 'profile_background_image_url': None, 'profile_background_image_url_https': None, 'profile_background_tile': False, 'profile_image_url': 'http://pbs.twimg.com/profile_images/1348953437006868481/FEFCPg-b_normal.jpg', 'profile_image_url_https': 'https://pbs.twimg.com/profile_images/1348953437006868481/FEFCPg-b_normal.jpg', 'profile_banner_url': 'https://pbs.twimg.com/profile_banners/1292031528814419970/1610450537', 'profile_link_color': '1DA1F2', 'profile_sidebar_border_color': 'C0DEED', 'profile_sidebar_fill_color': 'DDEEF6', 'profile_text_color': '333333', 'profile_use_background_image': True, 'has_extended_profile': True, 'default_profile': True, 'default_profile_image': False, 'following': False, 'follow_request_sent': False, 'notifications': False, 'translator_type': 'none'}\n"
     ]
    }
   ],
   "source": [
    "# print a single user from the data\n",
    "print(ur_df.iloc[0]['user'])"
   ]
  },
  {
   "cell_type": "code",
   "execution_count": 23,
   "metadata": {
    "pycharm": {
     "name": "#%%\n"
    }
   },
   "outputs": [],
   "source": [
    "# Extract the username of each user from the user column\n",
    "ur_df['name'] = ur_df['user'].apply(lambda user: user['name'])\n",
    "en_df['name'] = en_df['user'].apply(lambda user: user['name'])"
   ]
  },
  {
   "cell_type": "markdown",
   "metadata": {},
   "source": [
    "We have a total of 2597 tweets in our dataset. **[I see above that the ur_df has 1164 rows. The rest comes from the US data, right?]** \n",
    "\n",
    "The oldest tweet is from: Fri Apr 05 08:23:04 2019. The most recent tweet is from: Wed Oct 28 10:26:29 2020. We have a total of 26 unique users. **[Might want to do a separate description for the US and Pakistan data]**"
   ]
  },
  {
   "cell_type": "code",
   "execution_count": 1,
   "metadata": {
    "pycharm": {
     "name": "#%%\n"
    }
   },
   "outputs": [
    {
     "ename": "NameError",
     "evalue": "name 'ur_df' is not defined",
     "output_type": "error",
     "traceback": [
      "\u001b[0;31m---------------------------------------------------------------------------\u001b[0m",
      "\u001b[0;31mNameError\u001b[0m                                 Traceback (most recent call last)",
      "\u001b[0;32m<ipython-input-1-114ce95b7fd0>\u001b[0m in \u001b[0;36m<module>\u001b[0;34m\u001b[0m\n\u001b[0;32m----> 1\u001b[0;31m \u001b[0mprint\u001b[0m\u001b[0;34m(\u001b[0m\u001b[0;34mf\"The oldest tweet is from: {ur_df['created_at'].min()}.\"\u001b[0m\u001b[0;34m)\u001b[0m\u001b[0;34m\u001b[0m\u001b[0;34m\u001b[0m\u001b[0m\n\u001b[0m\u001b[1;32m      2\u001b[0m \u001b[0mprint\u001b[0m\u001b[0;34m(\u001b[0m\u001b[0;34mf\"The most recent tweet is from: {ur_df['created_at'].max()}.\"\u001b[0m\u001b[0;34m)\u001b[0m\u001b[0;34m\u001b[0m\u001b[0;34m\u001b[0m\u001b[0m\n\u001b[1;32m      3\u001b[0m \u001b[0mprint\u001b[0m\u001b[0;34m(\u001b[0m\u001b[0;34mf\"We have a total of {len(ur_df)} tweets.\"\u001b[0m\u001b[0;34m)\u001b[0m\u001b[0;34m\u001b[0m\u001b[0;34m\u001b[0m\u001b[0m\n\u001b[1;32m      4\u001b[0m \u001b[0mprint\u001b[0m\u001b[0;34m(\u001b[0m\u001b[0;34mf\"We have a total of {len(ur_df['name'].unique())} unique users.\"\u001b[0m\u001b[0;34m)\u001b[0m\u001b[0;34m\u001b[0m\u001b[0;34m\u001b[0m\u001b[0m\n",
      "\u001b[0;31mNameError\u001b[0m: name 'ur_df' is not defined"
     ]
    }
   ],
   "source": [
    "print(f\"The oldest tweet is from: {ur_df['created_at'].min()}.\")\n",
    "print(f\"The most recent tweet is from: {ur_df['created_at'].max()}.\")\n",
    "print(f\"We have a total of {len(ur_df)} tweets.\")\n",
    "print(f\"We have a total of {len(ur_df['name'].unique())} unique users.\")"
   ]
  },
  {
   "cell_type": "markdown",
   "metadata": {
    "pycharm": {
     "name": "#%% md\n"
    }
   },
   "source": [
    "We then clean our tweets, and translate them to English if they are written in Urdu."
   ]
  },
  {
   "cell_type": "code",
   "execution_count": 25,
   "metadata": {
    "pycharm": {
     "name": "#%%\n"
    }
   },
   "outputs": [
    {
     "name": "stdout",
     "output_type": "stream",
     "text": [
      "0    Looking back from the rain table, why we broug...\n",
      "1    Turn back and say, it's wrong to listen, but t...\n",
      "2    It is difficult to control the tongue, but it ...\n",
      "3    Dynamicies are displayed by DClostine Laplick ...\n",
      "4            The thoughts will be humble in deeperent.\n",
      "Name: clean_text, dtype: object\n"
     ]
    }
   ],
   "source": [
    "# Clean input and translate if needed\n",
    "ur_df = clean_and_translate(ur_df)\n",
    "en_df = clean_and_translate(en_df)\n",
    "print(ur_df['clean_text'].head())"
   ]
  },
  {
   "cell_type": "markdown",
   "metadata": {
    "pycharm": {
     "name": "#%% md\n"
    }
   },
   "source": [
    "We now calculate the sentiment of each tweet. As mentioned earlier, the method used to measure the sentiment of one tweet is to add up the happiness scores of each word contained in the tweet and divide the total score by the number of words in the tweet."
   ]
  },
  {
   "cell_type": "code",
   "execution_count": 26,
   "metadata": {
    "pycharm": {
     "name": "#%%\n"
    }
   },
   "outputs": [],
   "source": [
    "# Run the hedonometer on the tweets\n",
    "ur_df[\"hedonometer\"] = return_sentiment(ur_df)\n",
    "en_df[\"hedonometer\"] = return_sentiment(en_df)\n",
    "# Clear all tweets with no score\n",
    "ur_df = ur_df[ur_df[\"hedonometer\"] != 0]\n",
    "en_df = en_df[en_df[\"hedonometer\"] != 0]\n",
    "# Calculate the standard deviation for each tweets sentiment\n",
    "ur_df[\"hedo_sd\"] = return_standard_deviation(ur_df)\n",
    "en_df[\"hedo_sd\"] = return_standard_deviation(en_df)\n",
    "# Run function to pull the words from each tweet that determine sentiment into a new column\n",
    "ur_df[\"hits\"] = return_hits(ur_df)\n",
    "en_df[\"hits\"] = return_hits(en_df)\n",
    "# Save tweets with sentiments\n",
    "save(ur_df, path_to_sentiment, 'pakistan_sentiment')\n",
    "save(en_df, path_to_sentiment, 'usa_sentiment')"
   ]
  },
  {
   "cell_type": "markdown",
   "metadata": {},
   "source": [
    "### Define functions to plot results:"
   ]
  },
  {
   "cell_type": "markdown",
   "metadata": {},
   "source": [
    "We define a few functions to produce our final results and plot them.\n",
    "#### get_mean_based_on_frequency\n",
    "This function will calculate the mean sentiment of a DataFrame based on a given frequency.\n",
    "\n",
    "This function will receive:\n",
    "- `df` A DataFrame of the tweets\n",
    "- `freq` A frequency of the tweets, default value is daily. For more information about this please visit [time-date-components](https://pandas.pydata.org/pandas-docs/stable/user_guide/timeseries.html#time-date-components)\n",
    "- `start_date` Start date for the tweets, default value is `2020-01-01`\n",
    "- `end_date` End date for the tweets, default value is `2021-01-01`\n",
    "\n",
    "This function will calculate the mean sentiment of given frequency tweets of starting from the `date`. **[What are frequency tweets?**]"
   ]
  },
  {
   "cell_type": "code",
   "execution_count": 27,
   "metadata": {
    "pycharm": {
     "name": "#%%\n"
    }
   },
   "outputs": [],
   "source": [
    "def get_mean_based_on_frequency(df, freq, start_date='2020-04-01', end_date='2021-01-01'):\n",
    "    df[\"created_at\"] = pd.to_datetime(df['created_at'])\n",
    "    df = df.set_index(\"created_at\")\n",
    "    df = df[['hedonometer']]\n",
    "    return df.resample(freq).mean()[start_date:end_date]"
   ]
  },
  {
   "cell_type": "markdown",
   "metadata": {},
   "source": [
    "#### plot_save_to_pdf_and_show\n",
    "\n",
    "We will need the final function to plot the sentiment and save it in a PDF file for future use:\n",
    "\n",
    "This function will take as an input:\n",
    "- `df` The DataFrame to plot and save\n",
    "- `ylabel` The label of the Y axis\n",
    "- `xlabel` The label for the X axis\n",
    "- `title` The plot title that will be used to save the PDF"
   ]
  },
  {
   "cell_type": "code",
   "execution_count": 28,
   "metadata": {
    "pycharm": {
     "name": "#%%\n"
    }
   },
   "outputs": [],
   "source": [
    "def plot_save_to_pdf_and_show(df, ylabel, xlabel, title):\n",
    "    axes = df.plot(marker='', alpha=1, linestyle='-', figsize=(25, 10), subplots=False, legend=True)\n",
    "    axes.set_ylabel(ylabel, fontsize=14)\n",
    "    axes.set_xlabel(xlabel, )\n",
    "    axes.set_title(title, fontsize=22, pad=20)\n",
    "    axes.tick_params(axis='both', which='major', labelsize=14)\n",
    "    axes.legend(fontsize=14)\n",
    "    plt.savefig(f'{title}', dpi=300, bbox_inches=\"tight\",\n",
    "                transparent=False)\n",
    "    plt.show()"
   ]
  },
  {
   "cell_type": "markdown",
   "metadata": {},
   "source": [
    "### Produce and plot final results"
   ]
  },
  {
   "cell_type": "markdown",
   "metadata": {},
   "source": [
    "Now, we can finally plot our results.\n",
    "We will plot the mean of all the users that tweeted as well as the top user.\n",
    "\n",
    "In order to achieve that, we will need to do some work.\n",
    "We will only take the relevant information:\n",
    "- `name`\n",
    "- `created_at`\n",
    "- `hedonometer` score\n",
    "- `clean_text`"
   ]
  },
  {
   "cell_type": "code",
   "execution_count": 29,
   "metadata": {
    "pycharm": {
     "name": "#%%\n"
    }
   },
   "outputs": [
    {
     "name": "stdout",
     "output_type": "stream",
     "text": [
      "There are 21 different users\n",
      "The user with most tweets is: itz_mirza_obaid with 620 tweets\n",
      "The user with the least tweets is: Waqar Ahmed with 1 tweets\n"
     ]
    }
   ],
   "source": [
    "# Get only the user_id, the time the tweet was created and the hedonometer score\n",
    "sent_df = ur_df[[\"name\", \"created_at\", \"hedonometer\", 'clean_text']]\n",
    "# Split them to different DataFrames, this will sort the DataFrame by the 'user_id' and sort them\n",
    "split_df = sorted([pd.DataFrame(y) for x, y in sent_df.groupby('name', as_index=False)], key=len, reverse=True)\n",
    "print(f\"There are {len(split_df)} different users\\n\"\n",
    "      f\"The user with most tweets is: {split_df[0].iloc[0]['name']} with {len(split_df[0])} tweets\\n\"\n",
    "      f\"The user with the least tweets is: {split_df[-1].iloc[0]['name']} with {len(split_df[-1])} tweets\")"
   ]
  },
  {
   "cell_type": "markdown",
   "metadata": {},
   "source": [
    "**[The results above are only for Pakistan I guess? It would be good to precise this and do the same analysis for the US]**"
   ]
  },
  {
   "cell_type": "code",
   "execution_count": 30,
   "metadata": {
    "pycharm": {
     "name": "#%%\n"
    }
   },
   "outputs": [
    {
     "name": "stdout",
     "output_type": "stream",
     "text": [
      "the last tweet of the user: 'The only ones to enjoy God’s mercy.'\n"
     ]
    }
   ],
   "source": [
    "# Show the first tweet of the user\n",
    "print(f\"the last tweet of the user: '{split_df[0].clean_text.loc[7]}'\")"
   ]
  },
  {
   "cell_type": "markdown",
   "metadata": {},
   "source": [
    "We can see that this tweet is pretty much neutral, but it contains words like mercy and enjoy, so we expect to see a sentiment score of 5 and above."
   ]
  },
  {
   "cell_type": "code",
   "execution_count": 31,
   "metadata": {
    "pycharm": {
     "name": "#%%\n"
    }
   },
   "outputs": [
    {
     "name": "stdout",
     "output_type": "stream",
     "text": [
      "the last tweet of the user has a sentiment score of: '5.68'\n"
     ]
    }
   ],
   "source": [
    "print(f\"the last tweet of the user has a sentiment score of: '{split_df[0].hedonometer.loc[7]}'\")"
   ]
  },
  {
   "cell_type": "code",
   "execution_count": 32,
   "metadata": {
    "pycharm": {
     "name": "#%%\n"
    }
   },
   "outputs": [
    {
     "name": "stderr",
     "output_type": "stream",
     "text": [
      "e:\\workspace\\python\\python troject\\venv\\lib\\site-packages\\ipykernel_launcher.py:2: SettingWithCopyWarning: \n",
      "A value is trying to be set on a copy of a slice from a DataFrame.\n",
      "Try using .loc[row_indexer,col_indexer] = value instead\n",
      "\n",
      "See the caveats in the documentation: https://pandas.pydata.org/pandas-docs/stable/user_guide/indexing.html#returning-a-view-versus-a-copy\n",
      "  \n"
     ]
    },
    {
     "data": {
      "text/html": [
       "<div>\n",
       "<style scoped>\n",
       "    .dataframe tbody tr th:only-of-type {\n",
       "        vertical-align: middle;\n",
       "    }\n",
       "\n",
       "    .dataframe tbody tr th {\n",
       "        vertical-align: top;\n",
       "    }\n",
       "\n",
       "    .dataframe thead th {\n",
       "        text-align: right;\n",
       "    }\n",
       "</style>\n",
       "<table border=\"1\" class=\"dataframe\">\n",
       "  <thead>\n",
       "    <tr style=\"text-align: right;\">\n",
       "      <th></th>\n",
       "      <th>pakistan_sentiment</th>\n",
       "      <th>usa_sentiment</th>\n",
       "    </tr>\n",
       "    <tr>\n",
       "      <th>created_at</th>\n",
       "      <th></th>\n",
       "      <th></th>\n",
       "    </tr>\n",
       "  </thead>\n",
       "  <tbody>\n",
       "    <tr>\n",
       "      <th>2020-04-28 00:00:00+00:00</th>\n",
       "      <td>5.680000</td>\n",
       "      <td>5.597749</td>\n",
       "    </tr>\n",
       "    <tr>\n",
       "      <th>2020-05-02 00:00:00+00:00</th>\n",
       "      <td>5.680000</td>\n",
       "      <td>5.712153</td>\n",
       "    </tr>\n",
       "    <tr>\n",
       "      <th>2020-05-24 00:00:00+00:00</th>\n",
       "      <td>5.806667</td>\n",
       "      <td>5.341415</td>\n",
       "    </tr>\n",
       "    <tr>\n",
       "      <th>2020-06-25 00:00:00+00:00</th>\n",
       "      <td>5.210000</td>\n",
       "      <td>5.520105</td>\n",
       "    </tr>\n",
       "    <tr>\n",
       "      <th>2020-08-13 00:00:00+00:00</th>\n",
       "      <td>5.540000</td>\n",
       "      <td>5.457700</td>\n",
       "    </tr>\n",
       "  </tbody>\n",
       "</table>\n",
       "</div>"
      ],
      "text/plain": [
       "                           pakistan_sentiment  usa_sentiment\n",
       "created_at                                                  \n",
       "2020-04-28 00:00:00+00:00            5.680000       5.597749\n",
       "2020-05-02 00:00:00+00:00            5.680000       5.712153\n",
       "2020-05-24 00:00:00+00:00            5.806667       5.341415\n",
       "2020-06-25 00:00:00+00:00            5.210000       5.520105\n",
       "2020-08-13 00:00:00+00:00            5.540000       5.457700"
      ]
     },
     "execution_count": 32,
     "metadata": {},
     "output_type": "execute_result"
    }
   ],
   "source": [
    "# Take the top user\n",
    "split_df = split_df[:1]\n",
    "# get the id's of the users\n",
    "user_names = [sdf.iloc[0]['name'] for sdf in split_df]\n",
    "# Get Daily Mean of each user\n",
    "split_df = [get_mean_based_on_frequency(sf, start_date='2018-10-01',end_date='2019-01-07', freq='D') for sf in split_df]\n",
    "# combine the users, each to its own column\n",
    "split_sentiment = pd.concat(split_df, axis=1)\n",
    "# Rename the columns\n",
    "split_sentiment.columns = user_names\n",
    "# Get Overall daily mean of tweets\n",
    "user_sentiment = get_mean_based_on_frequency(sent_df, start_date='2019-04-05', end_date='2020-10-28', freq='D')\n",
    "# Plot Over all daily sentiment and save it\n",
    "us_user_sentiment = get_mean_based_on_frequency(en_df.reset_index()[[\"created_at\", \"hedonometer\", 'clean_text']], start_date='2019-04-05', end_date='2020-10-28', freq='D')\n",
    "combine_sentiment = pd.concat([user_sentiment, us_user_sentiment], axis=1).dropna()\n",
    "combine_sentiment.columns = ['pakistan_sentiment', 'usa_sentiment']\n",
    "combine_sentiment.head()"
   ]
  },
  {
   "cell_type": "code",
   "execution_count": 33,
   "metadata": {
    "pycharm": {
     "name": "#%%\n"
    }
   },
   "outputs": [
    {
     "data": {
      "image/png": "[encoded data removed]",
      "text/plain": [
       "<Figure size 1800x720 with 1 Axes>"
      ]
     },
     "metadata": {
      "needs_background": "light"
     },
     "output_type": "display_data"
    }
   ],
   "source": [
    "plot_save_to_pdf_and_show(df=combine_sentiment, ylabel='Mean daily sentiment (scale 1-9) of users', xlabel='Day',\n",
    "                          title='Mean daily Sentiment of users')"
   ]
  },
  {
   "cell_type": "markdown",
   "metadata": {},
   "source": [
    "**[It seems that there are dots between days. Yet, if you average the sentiment at a daily level, you should only have one dot per day, right? Also, how come the frequency is higher towards the end?]**"
   ]
  },
  {
   "cell_type": "markdown",
   "metadata": {},
   "source": [
    "This figure shows the average daily sentiment of users from August to December.\n",
    "We can see from the figure that on average the sentiment ranges between 4.8 to 6.2, which is rather positive.\n",
    "While on the sample of tweets from the USA we don't see that many leaps in the sentiment score."
   ]
  },
  {
   "cell_type": "markdown",
   "metadata": {},
   "source": [
    "**[Below, you leave blanks when there are no tweets. Above, you don't seem to do it (or am I mistaken?). It would be good to use the same method for both graphs to ensure consistency]**"
   ]
  },
  {
   "cell_type": "code",
   "execution_count": 34,
   "metadata": {
    "pycharm": {
     "name": "#%%\n"
    }
   },
   "outputs": [
    {
     "data": {
      "image/png": "[encoded data removed]",
      "text/plain": [
       "<Figure size 1800x720 with 1 Axes>"
      ]
     },
     "metadata": {
      "needs_background": "light"
     },
     "output_type": "display_data"
    }
   ],
   "source": [
    "# Plot Key users daily sentiment and save it\n",
    "plot_save_to_pdf_and_show(df=split_sentiment, ylabel='Mean daily sentiment (scale 1-9)', xlabel='Day',\n",
    "                          title=f\"Mean sentiment of Daily tweets of the top user\")"
   ]
  },
  {
   "cell_type": "markdown",
   "metadata": {
    "pycharm": {
     "name": "#%% md\n"
    }
   },
   "source": [
    "This plot shows the `Top User`, the user with the most tweets from our data, and his average daily sentiment (since this is a small sample, we have a few blanks during the days, those blank mean that the user haven't tweeted). **[Is this just for Pakistan?]** \n",
    "We can see that the user is rather positive, except for a few tweets that had a really negative content.\n",
    "The most negative tweet was published on Dec. 2nd 2018 and translated to: \"I'll kill you.\".\n",
    "The most positive tweet was published on December 22nd 2018 and read: \"while still a few years ago, you're going to have a lot of money.\"\n",
    "Note: This user has a different time frame that the average users because this is the time when he was most active **[Not sure I understand this last sentence]**)."
   ]
  },
  {
   "cell_type": "code",
   "execution_count": null,
   "metadata": {},
   "outputs": [],
   "source": []
  }
 ],
 "metadata": {
  "kernelspec": {
   "display_name": "Python 3",
   "language": "python",
   "name": "python3"
  },
  "language_info": {
   "codemirror_mode": {
    "name": "ipython",
    "version": 3
   },
   "file_extension": ".py",
   "mimetype": "text/x-python",
   "name": "python",
   "nbconvert_exporter": "python",
   "pygments_lexer": "ipython3",
   "version": "3.8.5"
  }
 },
 "nbformat": 4,
 "nbformat_minor": 4
}
