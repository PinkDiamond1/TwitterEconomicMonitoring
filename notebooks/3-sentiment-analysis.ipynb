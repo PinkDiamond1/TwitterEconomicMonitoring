{
 "cells": [
  {
   "cell_type": "markdown",
   "metadata": {},
   "source": [
    "[![Open In Colab](https://colab.research.google.com/assets/colab-badge.svg)](https://colab.research.google.com/drive/1DRoXJLoUVVU9RGjfb-bYQhcdhYVD-WrZ)"
   ]
  },
  {
   "cell_type": "markdown",
   "metadata": {},
   "source": [
    "# Module 3: tweet sentiment analysis"
   ]
  },
  {
   "cell_type": "markdown",
   "metadata": {},
   "source": [
    "## Description and requirements:"
   ]
  },
  {
   "cell_type": "markdown",
   "metadata": {},
   "source": [
    "In this notebook, you will learn how to perform sentiments analysis on tweets extracted from Twitter in Python.\n",
    "\n",
    "A requirement for this code to work is to have the Hedonometer.csv file downloaded from [Hedonometer](https://hedonometer.org/)."
   ]
  },
  {
   "cell_type": "markdown",
   "metadata": {},
   "source": [
    "### Import modules"
   ]
  },
  {
   "cell_type": "code",
   "execution_count": 2,
   "metadata": {
    "pycharm": {
     "name": "#%%\n"
    }
   },
   "outputs": [],
   "source": [
    "import os\n",
    "import re\n",
    "from glob import glob\n",
    "\n",
    "import matplotlib.pyplot as plt\n",
    "import numpy as np\n",
    "import pandas as pd\n",
    "\n",
    "path_to_data = './data'\n",
    "path_to_timelines = os.path.join(path_to_data, 'timelines')\n",
    "path_to_sentiment = os.path.join(path_to_data, 'sentiment')\n",
    "hedonometer_path = os.path.join(path_to_data, 'Hedonometer.csv')\n",
    "\n",
    "os.makedirs(path_to_sentiment, exist_ok=True)"
   ]
  },
  {
   "cell_type": "markdown",
   "metadata": {
    "pycharm": {
     "name": "#%% md\n"
    }
   },
   "source": [
    "Define function to save a DataFrame in a pickle format\n",
    "\n",
    "This function will take as an input:\n",
    "- `df` The DataFrame to save\n",
    "- `path` The path to save the file\n",
    "- `name` The name of the saved file"
   ]
  },
  {
   "cell_type": "code",
   "execution_count": 2,
   "metadata": {
    "pycharm": {
     "name": "#%%\n"
    }
   },
   "outputs": [],
   "source": [
    "def save(df, path, name):\n",
    "    df.to_pickle(os.path.join(path, f'{name}.pkl'))"
   ]
  },
  {
   "cell_type": "markdown",
   "metadata": {
    "pycharm": {
     "name": "#%% md\n"
    }
   },
   "source": [
    "Define a function to load all saved pickle files to a DataFrame from a given path\n",
    "\n",
    "This function will take as an input:\n",
    "- `path` The path to a folder containing all pickle files\n",
    "\n",
    "This function will return a Pandas DataFrame containing all the files loaded"
   ]
  },
  {
   "cell_type": "code",
   "execution_count": 3,
   "metadata": {
    "pycharm": {
     "name": "#%%\n"
    }
   },
   "outputs": [],
   "source": [
    "def load_from_pickle(path):\n",
    "    files = glob(os.path.join(path, '*.pkl'))\n",
    "    return pd.concat([pd.DataFrame(pd.read_pickle(file)) for file in files])"
   ]
  },
  {
   "cell_type": "markdown",
   "metadata": {},
   "source": [
    "Define a function for determining sentiment of a tweet\n",
    "\n",
    "This function will take as an input:\n",
    "- `sentence` which is the sentence to analyze\n",
    "\n",
    "it then goes over all words in the sentence and searches if they appear on the Hedonometer scores ranking and averages them."
   ]
  },
  {
   "cell_type": "code",
   "execution_count": 4,
   "metadata": {
    "pycharm": {
     "name": "#%%\n"
    }
   },
   "outputs": [],
   "source": [
    "def sentiment(sentence):\n",
    "    senti = 0\n",
    "    total = 0\n",
    "    words = sentence.split(\" \")\n",
    "    for word in words:\n",
    "        if word in scores.keys():\n",
    "            senti += scores[word]\n",
    "            total += 1\n",
    "    try:\n",
    "        return senti / total\n",
    "    except ZeroDivisionError:\n",
    "        return 0"
   ]
  },
  {
   "cell_type": "markdown",
   "metadata": {},
   "source": [
    "Define a function for determining standard deviation of a tweet\n",
    "\n",
    "This function will take as an input:\n",
    "- `sentence` which is the sentence to analyze\n",
    "\n",
    "it then goes over all words in the sentence and searches if they appear on the standard deviation scores ranking and averages them."
   ]
  },
  {
   "cell_type": "code",
   "execution_count": 5,
   "metadata": {
    "pycharm": {
     "name": "#%%\n"
    }
   },
   "outputs": [],
   "source": [
    "def standard_deviation(sentence):\n",
    "    standard_deviation = 0\n",
    "    total = 0\n",
    "    words = sentence.split(\" \")\n",
    "    for word in words:\n",
    "        if word in sds.keys():\n",
    "            standard_deviation += sds[word]\n",
    "            total += 1\n",
    "    try:\n",
    "        return standard_deviation / total\n",
    "    except ZeroDivisionError:\n",
    "        return 0"
   ]
  },
  {
   "cell_type": "markdown",
   "metadata": {},
   "source": [
    "Define a function for catching all the matched words from hedonometer of a tweet\n",
    "\n",
    "This function will take as an input:\n",
    "- `sentence` which is the sentence to analyze\n",
    "\n",
    "it then goes over all words in the sentence returns them."
   ]
  },
  {
   "cell_type": "code",
   "execution_count": 6,
   "metadata": {
    "pycharm": {
     "name": "#%%\n"
    }
   },
   "outputs": [],
   "source": [
    "def grab_hits(sentence):\n",
    "    hits = []\n",
    "    words = sentence.split(\" \")\n",
    "    for word in words:\n",
    "        if word in sds.keys():\n",
    "            hits.append(word)\n",
    "    return hits"
   ]
  },
  {
   "cell_type": "markdown",
   "metadata": {},
   "source": [
    "The following functions will use the functions we defined above and activate them on all the DataFrame, i.e. on all the tweets."
   ]
  },
  {
   "cell_type": "code",
   "execution_count": 7,
   "metadata": {
    "pycharm": {
     "name": "#%%\n"
    }
   },
   "outputs": [],
   "source": [
    "def return_sentiment(df):\n",
    "    return pd.Series(df[\"clean_text\"].progress_apply(lambda x: sentiment(x)))\n",
    "\n",
    "# Define formula applying that to a dataframe\n",
    "def return_standard_deviation(df):\n",
    "    return pd.Series(df[\"clean_text\"].progress_apply(lambda x: standard_deviation(x)))\n",
    "\n",
    "# Define a formula to apply this to a dataframe\n",
    "def return_hits(df):\n",
    "    return pd.Series(df[\"clean_text\"].progress_apply(lambda x: grab_hits(x)))"
   ]
  },
  {
   "cell_type": "markdown",
   "metadata": {
    "pycharm": {
     "name": "#%% md\n"
    }
   },
   "source": [
    "This is the Translator that we went over in the previous notebook entitled `2-machine-translation.ipynb`."
   ]
  },
  {
   "cell_type": "code",
   "execution_count": 8,
   "metadata": {
    "pycharm": {
     "name": "#%%\n"
    }
   },
   "outputs": [],
   "source": [
    "import transformers\n",
    "from transformers import MarianMTModel, MarianTokenizer\n",
    "from transformers.hf_api import HfApi"
   ]
  },
  {
   "cell_type": "code",
   "execution_count": 9,
   "metadata": {
    "pycharm": {
     "name": "#%%\n"
    }
   },
   "outputs": [
    {
     "data": {
      "text/plain": [
       "'4.0.1'"
      ]
     },
     "execution_count": 9,
     "metadata": {},
     "output_type": "execute_result"
    }
   ],
   "source": [
    "transformers.__version__"
   ]
  },
  {
   "cell_type": "code",
   "execution_count": 10,
   "metadata": {
    "pycharm": {
     "name": "#%%\n"
    }
   },
   "outputs": [],
   "source": [
    "class Translator:\n",
    "\n",
    "    def __init__(self, src_language, tgt_language):\n",
    "        self.src_language = src_language\n",
    "        self.tgt_language = tgt_language\n",
    "        self.model_name = f'Helsinki-NLP/opus-mt-{src_language}-{tgt_language}'\n",
    "        model_list = HfApi().model_list()\n",
    "        org = \"Helsinki-NLP\"\n",
    "        self.valid_model_names = [x.modelId for x in model_list if x.modelId.startswith(org)]\n",
    "        if self.model_name not in self.valid_model_names:\n",
    "            raise KeyError(f'{self.model_name} is not a valid model name.')\n",
    "\n",
    "    def load_model(self):\n",
    "        \"\"\"Load translation model and tokenizer.\"\"\"\n",
    "        tokenizer = MarianTokenizer.from_pretrained(self.model_name)\n",
    "        model = MarianMTModel.from_pretrained(self.model_name)\n",
    "        return tokenizer, model\n",
    "\n",
    "    def translate(self, src_text, loaded_model):\n",
    "        \"\"\"Use loaded model and tokenizer to translate the source text.\"\"\"\n",
    "        tokenizer, model = loaded_model\n",
    "        translated = model.generate(**tokenizer.prepare_seq2seq_batch([src_text], return_tensors=\"pt\"))\n",
    "        return [tokenizer.decode(t, skip_special_tokens=True) for t in translated][0]"
   ]
  },
  {
   "cell_type": "markdown",
   "metadata": {
    "pycharm": {
     "name": "#%% md\n"
    }
   },
   "source": [
    "Now, we load our Translator model and we will simply run:"
   ]
  },
  {
   "cell_type": "code",
   "execution_count": 11,
   "metadata": {
    "pycharm": {
     "name": "#%%\n"
    }
   },
   "outputs": [],
   "source": [
    "translator = Translator('ur', 'en')\n",
    "model = translator.load_model()"
   ]
  },
  {
   "cell_type": "markdown",
   "metadata": {
    "pycharm": {
     "name": "#%% md\n"
    }
   },
   "source": [
    "This function will remove a given pattern from the text using regular expression\n",
    "\n",
    "This function will take as an input:\n",
    "- `input_txt` The input text to remove\n",
    "- `pattern` The pattern to remove"
   ]
  },
  {
   "cell_type": "code",
   "execution_count": 12,
   "metadata": {
    "pycharm": {
     "name": "#%%\n"
    }
   },
   "outputs": [],
   "source": [
    "def remove_pattern(input_txt, pattern):\n",
    "    r = re.findall(pattern, input_txt)\n",
    "    for i in r:\n",
    "        input_txt = re.sub(i, '', input_txt)\n",
    "    return input_txt"
   ]
  },
  {
   "cell_type": "markdown",
   "metadata": {
    "pycharm": {
     "name": "#%% md\n"
    }
   },
   "source": [
    "This function will remove a prefix from a given text\n",
    "\n",
    "This function will receive:\n",
    "- `text` The text to remove the prefix from\n",
    "- `prefix` The prefix to remove"
   ]
  },
  {
   "cell_type": "code",
   "execution_count": 13,
   "metadata": {
    "pycharm": {
     "name": "#%%\n"
    }
   },
   "outputs": [],
   "source": [
    "def remove_prefix(text, prefix):\n",
    "    if text.startswith(prefix):\n",
    "        text = text.replace(prefix, \"\", 1)\n",
    "    return text"
   ]
  },
  {
   "cell_type": "markdown",
   "metadata": {
    "pycharm": {
     "name": "#%% md\n"
    }
   },
   "source": [
    "The following will clean the tweets and translate them\n",
    "\n",
    "This function will receive:\n",
    "- `df` the DataFrame containing all of the tweets\n",
    "\n",
    "This function will return it after cleaning and translating the tweets."
   ]
  },
  {
   "cell_type": "code",
   "execution_count": 14,
   "metadata": {
    "pycharm": {
     "name": "#%%\n"
    }
   },
   "outputs": [],
   "source": [
    "def clean_and_translate(df):\n",
    "    # Remove all url's from the tweet\n",
    "    df['clean_text'] = df['full_text'].str.replace('http\\S+|www.\\S+', '', case=False)\n",
    "    # Remove all \\n from text\n",
    "    df['clean_text'] = np.vectorize(remove_pattern)(df['clean_text'], \"\\n\")\n",
    "    # Remove all @ tags\n",
    "    df['clean_text'] = np.vectorize(remove_pattern)(df['clean_text'], \"@[\\w]*\")\n",
    "    # Remove all RT prefix\n",
    "    df['clean_text'] = df['clean_text'].progress_apply(lambda x: remove_prefix(x, \"RT : \"))\n",
    "    #remove all # tags\n",
    "    df['clean_text'] = np.vectorize(remove_pattern)(df['clean_text'], r\"#(\\w+)\")\n",
    "    # Remove all # from it\n",
    "    df['clean_text'] = df['clean_text'].str.replace('#', '')\n",
    "    # Make the string lower case\n",
    "    df['clean_text'] = df['clean_text'].str.lower()\n",
    "    # remove all of the punctuation\n",
    "    df['clean_text'] = df.clean_text.str.replace(r'[^\\w\\s]', '')\n",
    "    # If some tweets were left empty then remove them\n",
    "    df = df[df['clean_text'] != '']\n",
    "    # Translate the tweets and return the DataFrame\n",
    "    df['clean_text'] = df['clean_text'].progress_apply(lambda text: translator.translate(text, model))\n",
    "    return df"
   ]
  },
  {
   "cell_type": "markdown",
   "metadata": {},
   "source": [
    "We load the Hedonometer data and create a dictionary of words and scores."
   ]
  },
  {
   "cell_type": "code",
   "execution_count": 15,
   "metadata": {
    "pycharm": {
     "name": "#%%\n"
    }
   },
   "outputs": [],
   "source": [
    "file = pd.read_csv(hedonometer_path)\n",
    "scores = file[[\"Word\", \"Happiness Score\"]]\n",
    "scores.columns = [\"word\", \"score\"]\n",
    "scores = dict(zip(scores.word, scores.score))"
   ]
  },
  {
   "cell_type": "markdown",
   "metadata": {},
   "source": [
    "Using the same file we create a dictionary of words and standard deviations of scores"
   ]
  },
  {
   "cell_type": "code",
   "execution_count": 16,
   "metadata": {
    "pycharm": {
     "name": "#%%\n"
    }
   },
   "outputs": [],
   "source": [
    "sds = file[[\"Word\", \"Standard Deviation of Ratings\"]]\n",
    "sds.columns = [\"word\", \"deviation\"]\n",
    "sds = dict(zip(sds.word, sds.deviation))"
   ]
  },
  {
   "cell_type": "markdown",
   "metadata": {},
   "source": [
    "Let's run an example on the downloaded timelines"
   ]
  },
  {
   "cell_type": "code",
   "execution_count": 17,
   "metadata": {
    "pycharm": {
     "name": "#%%\n"
    }
   },
   "outputs": [
    {
     "name": "stderr",
     "output_type": "stream",
     "text": [
      "100%|██████████| 2597/2597 [00:00<00:00, 647714.07it/s]\n",
      "100%|██████████| 2570/2570 [26:51<00:00,  1.59it/s]  \n",
      "e:\\workspace\\python\\python troject\\venv\\lib\\site-packages\\ipykernel_launcher.py:21: SettingWithCopyWarning: \n",
      "A value is trying to be set on a copy of a slice from a DataFrame.\n",
      "Try using .loc[row_indexer,col_indexer] = value instead\n",
      "\n",
      "See the caveats in the documentation: https://pandas.pydata.org/pandas-docs/stable/user_guide/indexing.html#returning-a-view-versus-a-copy\n",
      "100%|██████████| 2570/2570 [00:00<00:00, 171793.60it/s]\n",
      "100%|██████████| 1164/1164 [00:00<00:00, 166740.77it/s]\n",
      "100%|██████████| 1164/1164 [00:00<00:00, 116706.19it/s]\n"
     ]
    },
    {
     "name": "stdout",
     "output_type": "stream",
     "text": [
      "0    @MuradSaeedPTI بارش درجن آلو سے نکل کر دیکھو نامراد صاحب کیوں کہ ہم آپ کو اقتدار میں اس لیئے لائے کہ ہماری امیدیں وابستہ تھی کہ شاہد یہ ماں کا لال ہمارے ملک کو قرضوں سے نجات دلائے گا اس ماں کے لال نے 30 ہزار ارب قرضے میں سے 10 ہزار ارب کی قسط واپس کی اور ابھی قرضہ 43 ہزار ارب رہ چکا ھے.\n",
      "1    پلٹ کر جواب دینا بیشک غلط ھے لیکن سنتے رہو تو لوگ بولنے کی تمیز بھول جاتے ہیں.🤔 شب بخیر..😍                                                                                                                                                                                                     \n",
      "2    @Anosha11593895 زبان پر قابو رکھنا مشکل ضرور ھے مگر ناممکن نہیں، ضبط اور برداشت اکثر شرمندگی سے بچا لیتے ہیں، کیونکہ کئی دفعہ منہ سے نکلے الفاظ معذرت اور معافی کے باوجود شخصیت کو ناقابل تلافی نقصان پہنچا دیتے ہیں.                                                                          \n",
      "3    Silence Is the best Answer of All stupids Questions.🤫🤫\\nAnd a Smile is the best Reaction in All critical situations.🙂👌💯\\nGood Morning..❤                                                                                                                                                       \n",
      "4    خیالات گہرے رکھو....کردار میں عاجزی خودبخود آئے گی..🙂❤                                                                                                                                                                                                                                         \n",
      "Name: full_text, dtype: object\n",
      "0    Looking back from the rain table, why we brought you back to power that we hoped this mother would give us a witness that he would save our land from 10 billion dollars a thousand dollars back to an estimated 10 billion dollars.         \n",
      "1    Turn back and say, it's wrong to listen, but then you forget the language of the night.                                                                                                                                                      \n",
      "2    It is difficult to control the tongue, but it is hard to keep it under control, and it is difficult to avoid shame, often because of the use of words and forgiveness, many times, there is no way to prevent the personality from doing bad.\n",
      "3    Dynamicies are displayed by DClostine Laplick taken by Jeroen Vloothe La Flosti Vloen Vloen Vloen Vloothuis                                                                                                                                  \n",
      "4    The thoughts will be humble in deeperent.                                                                                                                                                                                                    \n",
      "Name: clean_text, dtype: object\n"
     ]
    }
   ],
   "source": [
    "# Open all Urdu translated tweets from timeline\n",
    "df = load_from_pickle(path_to_timelines)\n",
    "print(df['full_text'].head())\n",
    "# Clean input and translate if needed\n",
    "df = clean_and_translate(df)\n",
    "print(df['clean_text'].head())\n",
    "# Run the hedonometer on the tweets\n",
    "df[\"hedonometer\"] = return_sentiment(df)\n",
    "# Clear all tweets with no score\n",
    "df = df[df[\"hedonometer\"] != 0]\n",
    "# Calculate the standard deviation for each tweets sentiment\n",
    "df[\"hedo_sd\"] = return_standard_deviation(df)\n",
    "# Run function to pull the words from each tweet that determine sentiment into a new column\n",
    "df[\"hits\"] = return_hits(df)\n",
    "# Save tweets with sentiments\n",
    "save(df, path_to_sentiment, 'sentiment')"
   ]
  },
  {
   "cell_type": "markdown",
   "metadata": {
    "pycharm": {
     "name": "#%% md\n"
    }
   },
   "source": [
    "### Let us define some more function that will help to plot our results:"
   ]
  },
  {
   "cell_type": "markdown",
   "metadata": {
    "pycharm": {
     "name": "#%% md\n"
    }
   },
   "source": [
    "This function will calculate the mean sentiment of a DataFrame based on a given frequency.\n",
    "\n",
    "This function will receive:\n",
    "- `df` A DataFrame of the tweets\n",
    "- `freq` A frequency of the tweets, default value is daily. For more information about this please visit [time-date-components](https://pandas.pydata.org/pandas-docs/stable/user_guide/timeseries.html#time-date-components)\n",
    "- `start_date` Start date for the tweets, default value is `2020-01-01`\n",
    "- `end_date` End date for the tweets, default value is `2021-01-01`\n",
    "\n",
    "This function will calculate the mean sentiment of given frequency tweets of starting from the `date`"
   ]
  },
  {
   "cell_type": "code",
   "execution_count": 18,
   "metadata": {
    "pycharm": {
     "name": "#%%\n"
    }
   },
   "outputs": [],
   "source": [
    "def get_mean_based_on_frequency(df, freq, start_date='2020-01-01', end_date='2021-01-01'):\n",
    "    df[\"created_at\"] = pd.to_datetime(df['created_at'])\n",
    "    df = df.set_index(\"created_at\")\n",
    "    df = df[['hedonometer']]\n",
    "    return df.resample(freq).mean()[start_date:end_date]"
   ]
  },
  {
   "cell_type": "markdown",
   "metadata": {
    "pycharm": {
     "name": "#%% md\n"
    }
   },
   "source": [
    "We will need the final function to plot the sentiment and save it in a PDF file for future use:\n",
    "\n",
    "This function will take as an input:\n",
    "- `df` The DataFrame to plot and save\n",
    "- `ylabel` The label of the Y axis\n",
    "- `xlabel` The label for the X axis\n",
    "- `title` The plot title that will be used to save the PDF"
   ]
  },
  {
   "cell_type": "code",
   "execution_count": 19,
   "metadata": {
    "pycharm": {
     "name": "#%%\n"
    }
   },
   "outputs": [],
   "source": [
    "def plot_save_to_pdf_and_show(df, ylabel, xlabel, title):\n",
    "    axes = df.plot(marker='', alpha=1, linestyle='-', figsize=(25, 10), subplots=False, legend=True)\n",
    "    axes.set_ylabel(ylabel, fontsize=14)\n",
    "    axes.set_xlabel(xlabel, )\n",
    "    axes.set_title(title, fontsize=22, pad=20)\n",
    "    axes.tick_params(axis='both', which='major', labelsize=14)\n",
    "    axes.legend(fontsize=14)\n",
    "    # plt.ylim(4.5, 6.5)\n",
    "    plt.savefig(f'{title}', dpi=300, bbox_inches=\"tight\",\n",
    "                transparent=True)\n",
    "    plt.show()"
   ]
  },
  {
   "cell_type": "markdown",
   "metadata": {
    "pycharm": {
     "name": "#%% md\n"
    }
   },
   "source": [
    "Now we are finally ready to plot out results\n",
    "We will plot the mean of off users that tweeted as well as the top 4 users\n",
    "In order to achieve that we will need to do some work:"
   ]
  },
  {
   "cell_type": "code",
   "execution_count": 38,
   "metadata": {
    "pycharm": {
     "name": "#%%\n"
    }
   },
   "outputs": [
    {
     "name": "stdout",
     "output_type": "stream",
     "text": [
      "There are 21 different users\n",
      "The user with most tweets is: itz_mirza_obaid with 620 tweets\n",
      "The user with the least tweets is: Waqar Ahmed with 1 tweets\n",
      "the last tweet of the user: 7    The only ones to enjoy God’s mercy.\n",
      "Name: clean_text, dtype: object\n"
     ]
    },
    {
     "name": "stderr",
     "output_type": "stream",
     "text": [
      "e:\\workspace\\python\\python troject\\venv\\lib\\site-packages\\ipykernel_launcher.py:3: SettingWithCopyWarning: \n",
      "A value is trying to be set on a copy of a slice from a DataFrame.\n",
      "Try using .loc[row_indexer,col_indexer] = value instead\n",
      "\n",
      "See the caveats in the documentation: https://pandas.pydata.org/pandas-docs/stable/user_guide/indexing.html#returning-a-view-versus-a-copy\n",
      "  This is separate from the ipykernel package so we can avoid doing imports until\n"
     ]
    }
   ],
   "source": [
    "# Get only the user_id, the time the tweet was created and the hedonometer score\n",
    "sent_df = df[[\"user\", \"created_at\", \"hedonometer\", 'clean_text']]\n",
    "sent_df['name'] = sent_df['user'].apply(lambda user: user['name'])\n",
    "sent_df = sent_df.drop(columns=['user'])\n",
    "# Split them to different DataFrames, this will sort the DataFrame by the 'user_id' and sort them\n",
    "split_df = sorted([pd.DataFrame(y) for x, y in sent_df.groupby('name', as_index=False)], key=len, reverse=True)\n",
    "print(f\"There are {len(split_df)} different users\\n\"\n",
    "      f\"The user with most tweets is: {split_df[0].iloc[0]['name']} with {len(split_df[0])} tweets\\n\"\n",
    "      f\"The user with the least tweets is: {split_df[-1].iloc[0]['name']} with {len(split_df[-1])} tweets\")\n",
    "# Show the last tweet of the user\n",
    "print(f'the last tweet of the user: {split_df[0].clean_text[:1]}')"
   ]
  },
  {
   "cell_type": "markdown",
   "metadata": {
    "pycharm": {
     "name": "#%% md\n"
    }
   },
   "source": [
    "We can see that this tweet is really negative, so we expect to see the score really low"
   ]
  },
  {
   "cell_type": "code",
   "execution_count": 27,
   "metadata": {
    "pycharm": {
     "name": "#%%\n"
    }
   },
   "outputs": [
    {
     "data": {
      "image/png": "[encoded data removed]",
      "text/plain": [
       "<Figure size 1800x720 with 1 Axes>"
      ]
     },
     "metadata": {
      "needs_background": "light"
     },
     "output_type": "display_data"
    }
   ],
   "source": [
    "# Take the top user\n",
    "split_df = split_df[:1]\n",
    "# get the id's of the users\n",
    "user_names = [sdf.iloc[0]['name'] for sdf in split_df]\n",
    "# Get Daily Mean of each user\n",
    "split_df = [get_mean_based_on_frequency(sf, start_date='2018-10-01',end_date='2019-01-07', freq='D') for sf in split_df]\n",
    "# combine the users, each to its own column\n",
    "split_sentiment = pd.concat(split_df, axis=1)\n",
    "# Rename the columns\n",
    "split_sentiment.columns = user_names\n",
    "# Get Overall daily mean of the tweets\n",
    "user_sentiment = get_mean_based_on_frequency(sent_df, start_date='2021-01-01', end_date='2021-01-20', freq='D')\n",
    "# Plot Over all daily sentiment and save it\n",
    "plot_save_to_pdf_and_show(df=user_sentiment, ylabel='Mean daily Sentiment (scale 1-9) of users', xlabel='Day',\n",
    "                          title='Mean daily Sentiment of users')"
   ]
  },
  {
   "cell_type": "markdown",
   "metadata": {
    "pycharm": {
     "name": "#%% md\n"
    }
   },
   "source": [
    "This figure shows the average daily sentiment of users from August to December.\n",
    "We can see from the figure that on average the sentiment is from 4.8 to 6.2 which is on the positive side."
   ]
  },
  {
   "cell_type": "code",
   "execution_count": 28,
   "metadata": {
    "pycharm": {
     "name": "#%%\n"
    }
   },
   "outputs": [
    {
     "data": {
      "image/png": "[encoded data removed]",
      "text/plain": [
       "<Figure size 1800x720 with 1 Axes>"
      ]
     },
     "metadata": {
      "needs_background": "light"
     },
     "output_type": "display_data"
    }
   ],
   "source": [
    "# Plot Key users daily sentiment and save it\n",
    "plot_save_to_pdf_and_show(df=split_sentiment, ylabel='Mean daily Sentiment (scale 1-9) of users', xlabel='Day',\n",
    "                          title=f\"Mean Sentiment of Daily tweets of {len(user_names)} top users\")"
   ]
  },
  {
   "cell_type": "markdown",
   "metadata": {
    "pycharm": {
     "name": "#%% md\n"
    }
   },
   "source": [
    "We can see that the user is rather positive, except for a few tweets that had their content really negative.\n",
    "The lowest of them all simply translated to: \"I'll kill you.\" on Dec. 2nd which as you can guess, quite negative.\n",
    "His most positive message on the 22nd of Dec. which read: \"while still a few years ago, you're going to have a lot of money.\""
   ]
  }
 ],
 "metadata": {
  "kernelspec": {
   "display_name": "Python 3",
   "language": "python",
   "name": "python3"
  },
  "language_info": {
   "codemirror_mode": {
    "name": "ipython",
    "version": 3
   },
   "file_extension": ".py",
   "mimetype": "text/x-python",
   "name": "python",
   "nbconvert_exporter": "python",
   "pygments_lexer": "ipython3",
   "version": "3.8.5"
  }
 },
 "nbformat": 4,
 "nbformat_minor": 4
}