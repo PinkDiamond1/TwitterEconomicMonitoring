{
 "cells": [
  {
   "cell_type": "markdown",
   "metadata": {},
   "source": [
    "[![Open In Colab](https://colab.research.google.com/assets/colab-badge.svg)](https://colab.research.google.com/drive/1W-iw0V84UOi7mnCSzD9gqEm096-wGbls)"
   ]
  },
  {
   "cell_type": "markdown",
   "metadata": {},
   "source": [
    "# Notebook #5: misinformation on Twitter"
   ]
  },
  {
   "cell_type": "markdown",
   "metadata": {},
   "source": [
    "## Description and requirements:"
   ]
  },
  {
   "cell_type": "markdown",
   "metadata": {},
   "source": [
    "In this notebook, you will learn how to quantifize misinformation in Pakistani tweets by checking whether the urls contained in tweets match with any identified fake news sources.\n",
    "\n",
    "A requirement for this code to work is to have the Newguard data containing a list of websites publishing misinformation about COVID-19. The data that can be requested [here](https://www.newsguardtech.com/coronavirus-misinformation-tracking-center/)."
   ]
  },
  {
   "cell_type": "markdown",
   "metadata": {},
   "source": [
    "### Import modules"
   ]
  },
  {
   "cell_type": "code",
   "execution_count": 1,
   "metadata": {
    "collapsed": true
   },
   "outputs": [],
   "source": [
    "import os\n",
    "import json\n",
    "from glob import glob\n",
    "import pandas as pd\n",
    "import numpy as np\n",
    "import matplotlib.pyplot as plt\n",
    "%matplotlib inline\n",
    "\n",
    "path_to_data = './data'\n",
    "path_to_sentiment = os.path.join(path_to_data, 'sentiment')\n",
    "path_to_fake_news_domain = os.path.join(path_to_data, 'fake news domain')"
   ]
  },
  {
   "cell_type": "markdown",
   "metadata": {},
   "source": [
    "### Define preprocessing functions"
   ]
  },
  {
   "cell_type": "markdown",
   "metadata": {},
   "source": [
    "#### make_dirs"
   ]
  },
  {
   "cell_type": "markdown",
   "metadata": {
    "pycharm": {
     "name": "#%% md\n"
    }
   },
   "source": [
    "This function will create directories.\n",
    "\n",
    "This function will take as an input:\n",
    "- `dirs` list of directories paths to create"
   ]
  },
  {
   "cell_type": "code",
   "execution_count": 2,
   "metadata": {
    "pycharm": {
     "name": "#%%\n"
    }
   },
   "outputs": [],
   "source": [
    "def make_dirs(dirs):\n",
    "    for d in dirs:\n",
    "        os.makedirs(d, exist_ok=True)\n",
    "\n",
    "make_dirs([path_to_fake_news_domain])"
   ]
  },
  {
   "cell_type": "markdown",
   "metadata": {},
   "source": [
    "#### save"
   ]
  },
  {
   "cell_type": "markdown",
   "metadata": {
    "pycharm": {
     "name": "#%% md\n"
    }
   },
   "source": [
    "This function will save a Pandas dataframe in a pickle format.\n",
    "\n",
    "This function will take as an input:\n",
    "- `df` The DataFrame to save\n",
    "- `path` The path to save the file\n",
    "- `name` The name of the saved file"
   ]
  },
  {
   "cell_type": "code",
   "execution_count": 3,
   "metadata": {
    "pycharm": {
     "name": "#%%\n"
    }
   },
   "outputs": [],
   "source": [
    "def save(df, path, name):\n",
    "    df.to_pickle(os.path.join(path, f'{name}.pkl'))"
   ]
  },
  {
   "cell_type": "markdown",
   "metadata": {},
   "source": [
    "#### load_from_pickle"
   ]
  },
  {
   "cell_type": "markdown",
   "metadata": {},
   "source": [
    "This function loads all saved pickle files to a DataFrame from a given path.\n",
    "\n",
    "This function will take as an input:\n",
    "- `path` The path to a folder containing all pickle files\n",
    "\n",
    "This function will return a Pandas DataFrame containing all the files loaded."
   ]
  },
  {
   "cell_type": "code",
   "execution_count": 4,
   "metadata": {
    "pycharm": {
     "name": "#%%\n"
    }
   },
   "outputs": [],
   "source": [
    "def load_from_pickle(path):\n",
    "    files = glob(os.path.join(path, '*.pkl'))\n",
    "    return pd.concat([pd.DataFrame(pd.read_pickle(file)) for file in files])\n"
   ]
  },
  {
   "cell_type": "markdown",
   "metadata": {},
   "source": [
    "#### preprocess_domain"
   ]
  },
  {
   "cell_type": "markdown",
   "metadata": {},
   "source": [
    "This function will load the `Newsguard_covid_fake.txt` from `path_to_fake_news_domain` and extract the domain name from each link.\n",
    "Finally, it will save the file to `clean_domain.pkl`"
   ]
  },
  {
   "cell_type": "code",
   "execution_count": 5,
   "metadata": {
    "pycharm": {
     "name": "#%%\n"
    }
   },
   "outputs": [],
   "source": [
    "def preprocess_domain():\n",
    "    domains = pd.read_csv(os.path.join(path_to_fake_news_domain, 'Newsguard_covid_fake.txt'), sep='\\n', header=None)\n",
    "    domains.columns = ['domain']\n",
    "    domains['name'] = domains['domain'].apply(lambda url: url.split('.')[-2])\n",
    "    save(domains, path_to_fake_news_domain, 'clean_domains')\n",
    "\n",
    "preprocess_domain()"
   ]
  },
  {
   "cell_type": "markdown",
   "metadata": {},
   "source": [
    "#### get_string_from_entities"
   ]
  },
  {
   "cell_type": "markdown",
   "metadata": {
    "pycharm": {
     "name": "#%% md\n"
    }
   },
   "source": [
    "Since the URLs come in a dictionary shape, we define the following function to extract these URLs from the dictionary.\n",
    "\n",
    "This function will receive:\n",
    "- `df` a dataFrame to extract the `entities` from\n",
    "\n",
    "It will return a Pandas series, where each value is a string representation of the urls."
   ]
  },
  {
   "cell_type": "code",
   "execution_count": 6,
   "metadata": {
    "pycharm": {
     "name": "#%%\n"
    }
   },
   "outputs": [],
   "source": [
    "def get_string_from_entities(df):\n",
    "    return pd.Series(df['entities'].apply(lambda entity: json.dumps(entity.get('urls'))))"
   ]
  },
  {
   "cell_type": "markdown",
   "metadata": {},
   "source": [
    "#### if_fake_url"
   ]
  },
  {
   "cell_type": "markdown",
   "metadata": {
    "pycharm": {
     "name": "#%% md\n"
    }
   },
   "source": [
    "After extracting the URL's from the `entities` column, we would like to check if we have a URL leading to a fake news site. To achieve this, we will define the following function.\n",
    "\n",
    "It takes as input a pandas DataFrame, loads the preprocessed domains and will search for any of them in each url, if found will return 1.\n",
    "If it can't find any, it will then check if the url is empty of does it contain `twitter.com` in that case, we would want to mark this tweet as one that doesn't contain any url, and the tweet would be marked with -1.\n",
    "Otherwise, we will return 0, as to say that this tweet has an url, but it is not fake.\n",
    "\n",
    "**[Paragraph above not clear for me. Add punctuation when missing (commas) and clarify]**"
   ]
  },
  {
   "cell_type": "code",
   "execution_count": 7,
   "metadata": {
    "pycharm": {
     "name": "#%%\n"
    }
   },
   "outputs": [],
   "source": [
    "def if_fake_url(df):\n",
    "    domains = load_from_pickle(path_to_fake_news_domain)\n",
    "    return df['urls'].apply(lambda urls: 1 if any([dom in urls for dom in domains['domain']]) else -1 if urls == '{}' or 'twitter.com' in urls else 0)"
   ]
  },
  {
   "cell_type": "markdown",
   "metadata": {
    "pycharm": {
     "name": "#%% md\n"
    }
   },
   "source": [
    "Now will use the data from [Notebook #3: tweet sentiment analysis](3-sentiment-analysis.ipynb) that we already cleaned and analyze it.\n",
    "**[Reminder as to what the data looks like and where it comes from (Pakistani tweets, how many tweets, etc.. Can be copied from notebook #3]**"
   ]
  },
  {
   "cell_type": "code",
   "execution_count": null,
   "metadata": {
    "pycharm": {
     "name": "#%%\n"
    }
   },
   "outputs": [],
   "source": [
    "# Load the df from path_to_sentiment\n",
    "df = load_from_pickle(path_to_sentiment)\n",
    "# Fill all missing values with \"\"\n",
    "df.fillna(value=\"''\", inplace=True)\n",
    "# Print the head of the df to show some content\n",
    "df['clean_text'].head()"
   ]
  },
  {
   "cell_type": "markdown",
   "metadata": {},
   "source": [
    "**[Description of what is done in the cell below]**"
   ]
  },
  {
   "cell_type": "code",
   "execution_count": 9,
   "metadata": {
    "pycharm": {
     "name": "#%%\n"
    }
   },
   "outputs": [],
   "source": [
    "# Get urls from entities\n",
    "df['urls'] = get_string_from_entities(df)\n",
    "# Mark tweets to to see who contains any fakes\n",
    "df['fake_news'] = if_fake_url(df)"
   ]
  },
  {
   "cell_type": "markdown",
   "metadata": {
    "pycharm": {
     "name": "#%% md\n"
    }
   },
   "source": [
    "### Compute share of fake news links\n",
    "We first filter all tweets that don't contain any URLs."
   ]
  },
  {
   "cell_type": "code",
   "execution_count": 10,
   "metadata": {
    "pycharm": {
     "name": "#%%\n"
    }
   },
   "outputs": [
    {
     "name": "stdout",
     "output_type": "stream",
     "text": [
      "Total Number of fake url found is: 6146 out of 358365 tweets containing urls\n"
     ]
    },
    {
     "data": {
      "text/html": [
       "<div>\n",
       "<style scoped>\n",
       "    .dataframe tbody tr th:only-of-type {\n",
       "        vertical-align: middle;\n",
       "    }\n",
       "\n",
       "    .dataframe tbody tr th {\n",
       "        vertical-align: top;\n",
       "    }\n",
       "\n",
       "    .dataframe thead th {\n",
       "        text-align: right;\n",
       "    }\n",
       "</style>\n",
       "<table border=\"1\" class=\"dataframe\">\n",
       "  <thead>\n",
       "    <tr style=\"text-align: right;\">\n",
       "      <th></th>\n",
       "      <th>total_daily_urls</th>\n",
       "    </tr>\n",
       "  </thead>\n",
       "  <tbody>\n",
       "    <tr>\n",
       "      <th>2020-07-08</th>\n",
       "      <td>9653</td>\n",
       "    </tr>\n",
       "    <tr>\n",
       "      <th>2020-07-09</th>\n",
       "      <td>14272</td>\n",
       "    </tr>\n",
       "    <tr>\n",
       "      <th>2020-07-10</th>\n",
       "      <td>20592</td>\n",
       "    </tr>\n",
       "    <tr>\n",
       "      <th>2020-07-11</th>\n",
       "      <td>12000</td>\n",
       "    </tr>\n",
       "    <tr>\n",
       "      <th>2020-07-12</th>\n",
       "      <td>18563</td>\n",
       "    </tr>\n",
       "  </tbody>\n",
       "</table>\n",
       "</div>"
      ],
      "text/plain": [
       "            total_daily_urls\n",
       "2020-07-08              9653\n",
       "2020-07-09             14272\n",
       "2020-07-10             20592\n",
       "2020-07-11             12000\n",
       "2020-07-12             18563"
      ]
     },
     "execution_count": 10,
     "metadata": {},
     "output_type": "execute_result"
    }
   ],
   "source": [
    "print(f\"Total Number of fake url found is: {len(df[df['fake_news'] == 1])} out of {len(df[df['fake_news'] != -1])} tweets containing urls\")\n",
    "only_url = df[df['fake_news'] != -1]"
   ]
  },
  {
   "cell_type": "markdown",
   "metadata": {},
   "source": [
    "We then use `.count()` on our DataFrame to count the number of tweets containing URLs, after sampling them using the `resample()` function."
   ]
  },
  {
   "cell_type": "code",
   "execution_count": null,
   "metadata": {},
   "outputs": [],
   "source": [
    "only_url_total = pd.DataFrame(only_url['fake_news'].resample('D').count())\n",
    "only_url_total.columns = ['total_daily_urls']\n",
    "only_url_total.index = [ind[:10] for ind in only_url_total.index.map(str)]\n",
    "only_url_total.head()"
   ]
  },
  {
   "cell_type": "markdown",
   "metadata": {
    "pycharm": {
     "name": "#%% md\n"
    }
   },
   "source": [
    "Now get the daily sum of the tweets.\n",
    "`fake_news` column will refer to the number of shared URLs considered as fake news\n",
    "Here we will use the `.sum()` function to calculate how much `fake_news` tweets we have.\n",
    "Because we marked each fake url using a `1` and the rest as `0` we can use the sum function to achieve this goal. "
   ]
  },
  {
   "cell_type": "code",
   "execution_count": 11,
   "metadata": {
    "pycharm": {
     "name": "#%%\n"
    }
   },
   "outputs": [
    {
     "data": {
      "text/html": [
       "<div>\n",
       "<style scoped>\n",
       "    .dataframe tbody tr th:only-of-type {\n",
       "        vertical-align: middle;\n",
       "    }\n",
       "\n",
       "    .dataframe tbody tr th {\n",
       "        vertical-align: top;\n",
       "    }\n",
       "\n",
       "    .dataframe thead th {\n",
       "        text-align: right;\n",
       "    }\n",
       "</style>\n",
       "<table border=\"1\" class=\"dataframe\">\n",
       "  <thead>\n",
       "    <tr style=\"text-align: right;\">\n",
       "      <th></th>\n",
       "      <th>fake_news</th>\n",
       "      <th>total_daily_urls</th>\n",
       "    </tr>\n",
       "  </thead>\n",
       "  <tbody>\n",
       "    <tr>\n",
       "      <th>2020-07-08</th>\n",
       "      <td>195</td>\n",
       "      <td>9653</td>\n",
       "    </tr>\n",
       "    <tr>\n",
       "      <th>2020-07-09</th>\n",
       "      <td>173</td>\n",
       "      <td>14272</td>\n",
       "    </tr>\n",
       "    <tr>\n",
       "      <th>2020-07-10</th>\n",
       "      <td>315</td>\n",
       "      <td>20592</td>\n",
       "    </tr>\n",
       "    <tr>\n",
       "      <th>2020-07-11</th>\n",
       "      <td>173</td>\n",
       "      <td>12000</td>\n",
       "    </tr>\n",
       "    <tr>\n",
       "      <th>2020-07-12</th>\n",
       "      <td>305</td>\n",
       "      <td>18563</td>\n",
       "    </tr>\n",
       "  </tbody>\n",
       "</table>\n",
       "</div>"
      ],
      "text/plain": [
       "            fake_news  total_daily_urls\n",
       "2020-07-08        195              9653\n",
       "2020-07-09        173             14272\n",
       "2020-07-10        315             20592\n",
       "2020-07-11        173             12000\n",
       "2020-07-12        305             18563"
      ]
     },
     "execution_count": 11,
     "metadata": {},
     "output_type": "execute_result"
    }
   ],
   "source": [
    "daily_fake_sum = pd.DataFrame(only_url['fake_news'].resample('D').sum())\n",
    "daily_fake_sum.index = only_url_total.index\n",
    "daily_fake_sum = pd.concat([daily_fake_sum, only_url_total], axis=1)\n",
    "daily_fake_sum.head()"
   ]
  },
  {
   "cell_type": "markdown",
   "metadata": {
    "pycharm": {
     "name": "#%% md\n"
    }
   },
   "source": [
    "Get the daily mean of the tweets containing fake news\n",
    "We will use the `.mean()` function to calculate the daily mean of fake news urls. since we would like to see in percentages we will multiply the value by 100.\n",
    "**[Not clear what the daily mean is. I guess the daily share of tweets containing fake news URLs? Please clarify. Also add commas when missing]**"
   ]
  },
  {
   "cell_type": "code",
   "execution_count": 12,
   "metadata": {
    "pycharm": {
     "name": "#%%\n"
    }
   },
   "outputs": [
    {
     "data": {
      "text/html": [
       "<div>\n",
       "<style scoped>\n",
       "    .dataframe tbody tr th:only-of-type {\n",
       "        vertical-align: middle;\n",
       "    }\n",
       "\n",
       "    .dataframe tbody tr th {\n",
       "        vertical-align: top;\n",
       "    }\n",
       "\n",
       "    .dataframe thead th {\n",
       "        text-align: right;\n",
       "    }\n",
       "</style>\n",
       "<table border=\"1\" class=\"dataframe\">\n",
       "  <thead>\n",
       "    <tr style=\"text-align: right;\">\n",
       "      <th></th>\n",
       "      <th>daily_fake_news_tweets_mean</th>\n",
       "    </tr>\n",
       "  </thead>\n",
       "  <tbody>\n",
       "    <tr>\n",
       "      <th>2020-07-08</th>\n",
       "      <td>2.020097</td>\n",
       "    </tr>\n",
       "    <tr>\n",
       "      <th>2020-07-09</th>\n",
       "      <td>1.212164</td>\n",
       "    </tr>\n",
       "    <tr>\n",
       "      <th>2020-07-10</th>\n",
       "      <td>1.529720</td>\n",
       "    </tr>\n",
       "    <tr>\n",
       "      <th>2020-07-11</th>\n",
       "      <td>1.441667</td>\n",
       "    </tr>\n",
       "    <tr>\n",
       "      <th>2020-07-12</th>\n",
       "      <td>1.643053</td>\n",
       "    </tr>\n",
       "  </tbody>\n",
       "</table>\n",
       "</div>"
      ],
      "text/plain": [
       "            daily_fake_news_tweets_mean\n",
       "2020-07-08                     2.020097\n",
       "2020-07-09                     1.212164\n",
       "2020-07-10                     1.529720\n",
       "2020-07-11                     1.441667\n",
       "2020-07-12                     1.643053"
      ]
     },
     "execution_count": 12,
     "metadata": {},
     "output_type": "execute_result"
    }
   ],
   "source": [
    "mean_daily_fake = pd.DataFrame(only_url['fake_news'].resample('D').mean() * 100)\n",
    "mean_daily_fake.columns = ['daily_fake_news_tweets_mean']\n",
    "mean_daily_fake.index = only_url_total.index\n",
    "mean_daily_fake = mean_daily_fake.dropna()\n",
    "mean_daily_fake.head()"
   ]
  },
  {
   "cell_type": "markdown",
   "metadata": {},
   "source": [
    "### Plot results"
   ]
  },
  {
   "cell_type": "markdown",
   "metadata": {
    "pycharm": {
     "name": "#%% md\n"
    }
   },
   "source": [
    "Now to plot the data and save it, we define a final function:\n",
    "\n",
    "This function will receive:\n",
    "- `df` a dataFrame to plot the information\n",
    "- `ylabel` a label for the y-axis\n",
    "- `xlabel` a label for the x-axis\n",
    "- `title` a title for the plot\n",
    "- `rotation` a variable to determine whether to rotate the text\n",
    "- `ylim` a range limit on the y-axis\n",
    "- `legend` a boolean (True/False) to determine whether to display a legend or not"
   ]
  },
  {
   "cell_type": "code",
   "execution_count": 13,
   "metadata": {
    "pycharm": {
     "name": "#%%\n"
    }
   },
   "outputs": [],
   "source": [
    "def bar_plot_and_save(df, ylabel, xlabel, title, rotation=0, ylim=None, legend=True):\n",
    "    # Plot the data in a `bar` format\n",
    "    axes = df.plot(kind=\"bar\", figsize=(25, 10), subplots=False)\n",
    "    # Set the labels and title\n",
    "    axes.set_ylabel(ylabel, fontsize=14)\n",
    "    axes.set_xlabel(xlabel)\n",
    "    axes.set_title(title, fontsize=22, pad=20)\n",
    "    axes.tick_params(axis='both', which='major', labelsize=14)\n",
    "    axes.legend(fontsize=14)\n",
    "    # Go over each bar and display a text with the value above it\n",
    "    for p in axes.patches:\n",
    "        axes.annotate(np.round(p.get_height(), decimals=2), (p.get_x() + p.get_width() / 2, p.get_height()),\n",
    "                      ha='center', va='center', rotation=rotation, xytext=(2, 20), textcoords='offset points')\n",
    "    # Set a limit on the y axis if present\n",
    "    if ylim is not None:\n",
    "        plt.ylim(*ylim)\n",
    "    # Remove the legend if not required\n",
    "    if not legend:\n",
    "        axes.legend().remove()\n",
    "    # Save the figure to a file and display it\n",
    "    plt.savefig(f\"{'_'.join(title.split(' '))}\", dpi='figure', bbox_inches=\"tight\")\n",
    "    plt.show()"
   ]
  },
  {
   "cell_type": "markdown",
   "metadata": {
    "pycharm": {
     "name": "#%% md\n"
    }
   },
   "source": [
    "We now plot the results:"
   ]
  },
  {
   "cell_type": "code",
   "execution_count": 14,
   "metadata": {
    "pycharm": {
     "name": "#%%\n"
    },
    "scrolled": true
   },
   "outputs": [
    {
     "data": {
      "image/png": "[encoded data removed]",
      "text/plain": [
       "<Figure size 1800x720 with 1 Axes>"
      ]
     },
     "metadata": {
      "needs_background": "light"
     },
     "output_type": "display_data"
    }
   ],
   "source": [
    "bar_plot_and_save(df=daily_fake_sum, ylabel='# tweets to fake news sources', xlabel='Day',\n",
    "                  title='Tweets linking to fake news sources over time',\n",
    "                  rotation=90, ylim=[0, 33000], legend=True)"
   ]
  },
  {
   "cell_type": "markdown",
   "metadata": {
    "pycharm": {
     "name": "#%% md\n"
    }
   },
   "source": [
    "As we can see from the plot, there are a lot of URLs being shared and only a small percentage of them are from fake news sources.\n",
    "We now look at the daily share of tweets linking to fake news sources. **[Run cell below again to update title]**"
   ]
  },
  {
   "cell_type": "code",
   "execution_count": 15,
   "metadata": {
    "pycharm": {
     "name": "#%%\n"
    }
   },
   "outputs": [
    {
     "data": {
      "image/png": "[encoded data removed]",
      "text/plain": [
       "<Figure size 1800x720 with 1 Axes>"
      ]
     },
     "metadata": {
      "needs_background": "light"
     },
     "output_type": "display_data"
    }
   ],
   "source": [
    "bar_plot_and_save(df=mean_daily_fake, ylabel='% links to fake news sources',\n",
    "                  xlabel='Day',title='Daily share of tweets linking to fake news sources over time',\n",
    "                  ylim=[0, 11], legend=False)"
   ]
  },
  {
   "cell_type": "markdown",
   "metadata": {
    "pycharm": {
     "name": "#%% md\n"
    }
   },
   "source": [
    "Now it is a lot clearer as to what happening.\n",
    "It seems that even though on July 30th we had the least amount of data, we have the highest percentage of Fake news related links.\n",
    "Even though on the 27th we have roughly the same amount of tweets collected, the percentage is not even close as it is 5 times lower.\n",
    "After doing a search on the subject it seems that on the 27th of July, USA has passed the 150k death toll mark caused by COVID-19."
   ]
  }
 ],
 "metadata": {
  "kernelspec": {
   "display_name": "Python 3",
   "language": "python",
   "name": "python3"
  },
  "language_info": {
   "codemirror_mode": {
    "name": "ipython",
    "version": 3
   },
   "file_extension": ".py",
   "mimetype": "text/x-python",
   "name": "python",
   "nbconvert_exporter": "python",
   "pygments_lexer": "ipython3",
   "version": "3.8.5"
  }
 },
 "nbformat": 4,
 "nbformat_minor": 1
}
