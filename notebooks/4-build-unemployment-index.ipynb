{
 "cells": [
  {
   "cell_type": "markdown",
   "metadata": {},
   "source": [
    "[![Open In Colab](https://colab.research.google.com/assets/colab-badge.svg)](https://colab.research.google.com/github/googlecolab/colabtools/blob/master/notebooks/colab-github-demo.ipynb)"
   ]
  },
  {
   "cell_type": "markdown",
   "metadata": {},
   "source": [
    "# Notebook #5: build an unemployment index from Twitter data"
   ]
  },
  {
   "cell_type": "markdown",
   "metadata": {},
   "source": [
    "## Description:"
   ]
  },
  {
   "cell_type": "markdown",
   "metadata": {},
   "source": [
    "In this notebook, you will learn how to use tweets extracted with the Tweepy API to build an unemployment index for Mexico. The method we will use consists in calculating the share of daily tweets containing a specific keyword or group of keywords (e.g. 'I lost my job'). This method is obviously simplistic and, the output may not be compared with the unemployment rate defined by national statistical institutes. Yet, it provides timely information that can help predict future unemployment trends."
   ]
  },
  {
   "cell_type": "markdown",
   "metadata": {},
   "source": [
    "### Import modules"
   ]
  },
  {
   "cell_type": "code",
   "execution_count": 62,
   "metadata": {},
   "outputs": [],
   "source": [
    "import os\n",
    "\n",
    "import matplotlib\n",
    "import pandas as pd\n",
    "import seaborn as sns"
   ]
  },
  {
   "cell_type": "code",
   "execution_count": 63,
   "metadata": {},
   "outputs": [
    {
     "data": {
      "text/plain": [
       "'3.3.1'"
      ]
     },
     "execution_count": 63,
     "metadata": {},
     "output_type": "execute_result"
    }
   ],
   "source": [
    "matplotlib.__version__"
   ]
  },
  {
   "cell_type": "markdown",
   "metadata": {},
   "source": [
    "### Import data"
   ]
  },
  {
   "cell_type": "markdown",
   "metadata": {},
   "source": [
    "We have downloaded tweets using Tweepy and the Twitter Streaming API. The latter allows developers to download a high volume of real-time tweets. For more information, please refer to the part about the streaming API in `notebook #1` and the [Twitter Streaming API Documentation](https://developer.twitter.com/en/docs/tweets/filter-realtime/overview).  "
   ]
  },
  {
   "cell_type": "markdown",
   "metadata": {},
   "source": [
    "We now load the tweets and store them in a Pandas dataframe."
   ]
  },
  {
   "cell_type": "code",
   "execution_count": 64,
   "metadata": {},
   "outputs": [],
   "source": [
    "path_to_data = '/scratch/mt4493/twitter_labor/twitter-labor-data/data/tweets_2020/MX'"
   ]
  },
  {
   "cell_type": "code",
   "execution_count": 87,
   "metadata": {},
   "outputs": [],
   "source": [
    "MX_df = pd.read_parquet(os.path.join(path_to_data,\n",
    "                                     'part-00008-8a2357e0-3094-4494-bb84-c09337fad6b9-c000.snappy.parquet'))"
   ]
  },
  {
   "cell_type": "markdown",
   "metadata": {},
   "source": [
    "Since we will focus on Spanish keywords, we will keep only the tweets in Spanish."
   ]
  },
  {
   "cell_type": "code",
   "execution_count": 88,
   "metadata": {},
   "outputs": [],
   "source": [
    "MX_df = MX_df.loc[MX_df['tweet_lang'] == 'es']"
   ]
  },
  {
   "cell_type": "code",
   "execution_count": 89,
   "metadata": {},
   "outputs": [
    {
     "data": {
      "text/html": [
       "<div>\n",
       "<style scoped>\n",
       "    .dataframe tbody tr th:only-of-type {\n",
       "        vertical-align: middle;\n",
       "    }\n",
       "\n",
       "    .dataframe tbody tr th {\n",
       "        vertical-align: top;\n",
       "    }\n",
       "\n",
       "    .dataframe thead th {\n",
       "        text-align: right;\n",
       "    }\n",
       "</style>\n",
       "<table border=\"1\" class=\"dataframe\">\n",
       "  <thead>\n",
       "    <tr style=\"text-align: right;\">\n",
       "      <th></th>\n",
       "      <th>tweet_id</th>\n",
       "      <th>created_at</th>\n",
       "      <th>text</th>\n",
       "      <th>tweet_lang</th>\n",
       "      <th>user_id</th>\n",
       "      <th>user_location</th>\n",
       "      <th>place_id</th>\n",
       "      <th>tweet_longitude</th>\n",
       "      <th>tweet_latitude</th>\n",
       "      <th>month</th>\n",
       "    </tr>\n",
       "  </thead>\n",
       "  <tbody>\n",
       "    <tr>\n",
       "      <th>1</th>\n",
       "      <td>1256070877759672320</td>\n",
       "      <td>2020-05-01 04:00:08</td>\n",
       "      <td>@MocTey Es que no existe</td>\n",
       "      <td>es</td>\n",
       "      <td>420672663</td>\n",
       "      <td>Sonora, México</td>\n",
       "      <td>None</td>\n",
       "      <td>NaN</td>\n",
       "      <td>NaN</td>\n",
       "      <td>5</td>\n",
       "    </tr>\n",
       "    <tr>\n",
       "      <th>2</th>\n",
       "      <td>1256070898517499904</td>\n",
       "      <td>2020-05-01 04:00:13</td>\n",
       "      <td>@mart_in_hillo me ofreció que me trajera un ch...</td>\n",
       "      <td>es</td>\n",
       "      <td>1107430830538924032</td>\n",
       "      <td>Hermosillo, Sonora</td>\n",
       "      <td>None</td>\n",
       "      <td>NaN</td>\n",
       "      <td>NaN</td>\n",
       "      <td>5</td>\n",
       "    </tr>\n",
       "    <tr>\n",
       "      <th>3</th>\n",
       "      <td>1256070945489461249</td>\n",
       "      <td>2020-05-01 04:00:24</td>\n",
       "      <td>@alfonsozarate Esto es lo que buscaban chairos...</td>\n",
       "      <td>es</td>\n",
       "      <td>1072792855</td>\n",
       "      <td>Querétaro, Querétaro Arteaga</td>\n",
       "      <td>None</td>\n",
       "      <td>NaN</td>\n",
       "      <td>NaN</td>\n",
       "      <td>5</td>\n",
       "    </tr>\n",
       "    <tr>\n",
       "      <th>4</th>\n",
       "      <td>1256071044227641346</td>\n",
       "      <td>2020-05-01 04:00:48</td>\n",
       "      <td>RT @soyowencruz: EXTRAÑO A MI EX ᵗʳᵉᵐᵃ ᵛⁱᵈᵃ ᵏ ...</td>\n",
       "      <td>es</td>\n",
       "      <td>885198576812470272</td>\n",
       "      <td>Aguascalientes, México</td>\n",
       "      <td>None</td>\n",
       "      <td>NaN</td>\n",
       "      <td>NaN</td>\n",
       "      <td>5</td>\n",
       "    </tr>\n",
       "    <tr>\n",
       "      <th>6</th>\n",
       "      <td>1256071067212419072</td>\n",
       "      <td>2020-05-01 04:00:53</td>\n",
       "      <td>RT @bubafonck: Imagínate estar en medio de una...</td>\n",
       "      <td>es</td>\n",
       "      <td>912783976166772736</td>\n",
       "      <td>Mexico 🇲🇽</td>\n",
       "      <td>None</td>\n",
       "      <td>NaN</td>\n",
       "      <td>NaN</td>\n",
       "      <td>5</td>\n",
       "    </tr>\n",
       "  </tbody>\n",
       "</table>\n",
       "</div>"
      ],
      "text/plain": [
       "              tweet_id          created_at  \\\n",
       "1  1256070877759672320 2020-05-01 04:00:08   \n",
       "2  1256070898517499904 2020-05-01 04:00:13   \n",
       "3  1256070945489461249 2020-05-01 04:00:24   \n",
       "4  1256071044227641346 2020-05-01 04:00:48   \n",
       "6  1256071067212419072 2020-05-01 04:00:53   \n",
       "\n",
       "                                                text tweet_lang  \\\n",
       "1                           @MocTey Es que no existe         es   \n",
       "2  @mart_in_hillo me ofreció que me trajera un ch...         es   \n",
       "3  @alfonsozarate Esto es lo que buscaban chairos...         es   \n",
       "4  RT @soyowencruz: EXTRAÑO A MI EX ᵗʳᵉᵐᵃ ᵛⁱᵈᵃ ᵏ ...         es   \n",
       "6  RT @bubafonck: Imagínate estar en medio de una...         es   \n",
       "\n",
       "               user_id                 user_location place_id  \\\n",
       "1            420672663                Sonora, México     None   \n",
       "2  1107430830538924032            Hermosillo, Sonora     None   \n",
       "3           1072792855  Querétaro, Querétaro Arteaga     None   \n",
       "4   885198576812470272        Aguascalientes, México     None   \n",
       "6   912783976166772736                     Mexico 🇲🇽     None   \n",
       "\n",
       "   tweet_longitude  tweet_latitude  month  \n",
       "1              NaN             NaN      5  \n",
       "2              NaN             NaN      5  \n",
       "3              NaN             NaN      5  \n",
       "4              NaN             NaN      5  \n",
       "6              NaN             NaN      5  "
      ]
     },
     "execution_count": 89,
     "metadata": {},
     "output_type": "execute_result"
    }
   ],
   "source": [
    "MX_df.head()"
   ]
  },
  {
   "cell_type": "markdown",
   "metadata": {},
   "source": [
    "We now have a dataset of 671,875 tweets, ranging from May 1 until May 31st, 2020. "
   ]
  },
  {
   "cell_type": "code",
   "execution_count": 96,
   "metadata": {},
   "outputs": [
    {
     "data": {
      "text/plain": [
       "(671875, 10)"
      ]
     },
     "execution_count": 96,
     "metadata": {},
     "output_type": "execute_result"
    }
   ],
   "source": [
    "MX_df.shape"
   ]
  },
  {
   "cell_type": "code",
   "execution_count": 97,
   "metadata": {},
   "outputs": [
    {
     "data": {
      "text/plain": [
       "Timestamp('2020-05-01 04:00:00')"
      ]
     },
     "execution_count": 97,
     "metadata": {},
     "output_type": "execute_result"
    }
   ],
   "source": [
    "MX_df['created_at'].min()"
   ]
  },
  {
   "cell_type": "code",
   "execution_count": 98,
   "metadata": {},
   "outputs": [
    {
     "data": {
      "text/plain": [
       "Timestamp('2020-05-31 22:55:01')"
      ]
     },
     "execution_count": 98,
     "metadata": {},
     "output_type": "execute_result"
    }
   ],
   "source": [
    "MX_df['created_at'].max()"
   ]
  },
  {
   "cell_type": "markdown",
   "metadata": {},
   "source": [
    "The function below takes as input:\n",
    "- `df` the data loaded above in dataframe format\n",
    "- `regex` a keyword or regex in string format\n",
    "\n",
    "It then normalizes the dates, selects all tweets containing the `regex` string argument and computes the share of tweets containing the `regex` string per day. "
   ]
  },
  {
   "cell_type": "code",
   "execution_count": 99,
   "metadata": {},
   "outputs": [],
   "source": [
    "def build_ngram_timeseries(df, regex):\n",
    "    \"\"\"Build time-series for input ngram.\"\"\"\n",
    "    # normalize date\n",
    "    df['created_at'] = pd.to_datetime(df['created_at'], format='%m-%d')\n",
    "    df['created_at'] = pd.DatetimeIndex(df.created_at).normalize()\n",
    "    # lowercase text\n",
    "    df['text'] = df['text'].str.lower()\n",
    "    # build indicator \n",
    "    df['contains_ngram'] = df.text.str.contains(regex)\n",
    "    df['contains_ngram'] = df['contains_ngram'].apply(lambda x: 1 if x else 0)\n",
    "    # keep relevant columns, rename and set date as index\n",
    "    df = df[['created_at', 'contains_ngram']]\n",
    "    df.columns = ['date', 'ngram_index']\n",
    "    df = df.set_index(['date'])\n",
    "    return df.groupby(df.index.date).mean()"
   ]
  },
  {
   "cell_type": "markdown",
   "metadata": {},
   "source": [
    "### Build and plot index"
   ]
  },
  {
   "cell_type": "markdown",
   "metadata": {},
   "source": [
    "Let's do an example with the share of our Mexican tweets containing the keyword `sin trabajo` (meaning `without a job` in Spanish). "
   ]
  },
  {
   "cell_type": "code",
   "execution_count": 110,
   "metadata": {},
   "outputs": [
    {
     "data": {
      "text/html": [
       "<div>\n",
       "<style scoped>\n",
       "    .dataframe tbody tr th:only-of-type {\n",
       "        vertical-align: middle;\n",
       "    }\n",
       "\n",
       "    .dataframe tbody tr th {\n",
       "        vertical-align: top;\n",
       "    }\n",
       "\n",
       "    .dataframe thead th {\n",
       "        text-align: right;\n",
       "    }\n",
       "</style>\n",
       "<table border=\"1\" class=\"dataframe\">\n",
       "  <thead>\n",
       "    <tr style=\"text-align: right;\">\n",
       "      <th></th>\n",
       "      <th>ngram_index</th>\n",
       "    </tr>\n",
       "  </thead>\n",
       "  <tbody>\n",
       "    <tr>\n",
       "      <th>2020-05-01</th>\n",
       "      <td>0.000288</td>\n",
       "    </tr>\n",
       "    <tr>\n",
       "      <th>2020-05-02</th>\n",
       "      <td>0.000907</td>\n",
       "    </tr>\n",
       "    <tr>\n",
       "      <th>2020-05-03</th>\n",
       "      <td>0.000239</td>\n",
       "    </tr>\n",
       "    <tr>\n",
       "      <th>2020-05-04</th>\n",
       "      <td>0.000393</td>\n",
       "    </tr>\n",
       "    <tr>\n",
       "      <th>2020-05-05</th>\n",
       "      <td>0.000482</td>\n",
       "    </tr>\n",
       "    <tr>\n",
       "      <th>2020-05-06</th>\n",
       "      <td>0.000349</td>\n",
       "    </tr>\n",
       "    <tr>\n",
       "      <th>2020-05-07</th>\n",
       "      <td>0.000259</td>\n",
       "    </tr>\n",
       "    <tr>\n",
       "      <th>2020-05-08</th>\n",
       "      <td>0.000380</td>\n",
       "    </tr>\n",
       "    <tr>\n",
       "      <th>2020-05-09</th>\n",
       "      <td>0.000092</td>\n",
       "    </tr>\n",
       "    <tr>\n",
       "      <th>2020-05-10</th>\n",
       "      <td>0.000304</td>\n",
       "    </tr>\n",
       "  </tbody>\n",
       "</table>\n",
       "</div>"
      ],
      "text/plain": [
       "            ngram_index\n",
       "2020-05-01     0.000288\n",
       "2020-05-02     0.000907\n",
       "2020-05-03     0.000239\n",
       "2020-05-04     0.000393\n",
       "2020-05-05     0.000482\n",
       "2020-05-06     0.000349\n",
       "2020-05-07     0.000259\n",
       "2020-05-08     0.000380\n",
       "2020-05-09     0.000092\n",
       "2020-05-10     0.000304"
      ]
     },
     "execution_count": 110,
     "metadata": {},
     "output_type": "execute_result"
    }
   ],
   "source": [
    "df = build_ngram_timeseries(MX_df, 'sin trabajo')\n",
    "df.head(n=10)"
   ]
  },
  {
   "cell_type": "markdown",
   "metadata": {},
   "source": [
    "As expected, we get a daily share (between 0 and 1) of our tweets containing the expression `sin trabajo` on the time period for which we collected data, that is May 2020. We now plot this share, with time as x-axis and, the share of tweets containing the expression `sin trabajo` as y-axis."
   ]
  },
  {
   "cell_type": "code",
   "execution_count": 112,
   "metadata": {},
   "outputs": [
    {
     "data": {
      "text/plain": [
       "<AxesSubplot:>"
      ]
     },
     "execution_count": 112,
     "metadata": {},
     "output_type": "execute_result"
    },
    {
     "data": {
      "image/png": "[encoded data removed]",
      "text/plain": [
       "<Figure size 1008x288 with 1 Axes>"
      ]
     },
     "metadata": {},
     "output_type": "display_data"
    }
   ],
   "source": [
    "sns.set(rc={'figure.figsize':(14, 4)})\n",
    "df['ngram_index'].plot(linewidth=0.5)"
   ]
  },
  {
   "cell_type": "markdown",
   "metadata": {},
   "source": [
    "The share of Mexican tweets we collected containing the expression `sin trabajo` in May 2020 ranges from 0 to 1.48%. It is relatively constant from the beginning of May until the 21st when it starts rising, peaks on the 25th at 1.48% and then goes back down. "
   ]
  },
  {
   "cell_type": "markdown",
   "metadata": {},
   "source": [
    "## Conclusion:"
   ]
  },
  {
   "cell_type": "markdown",
   "metadata": {},
   "source": [
    "In this notebook, we learned how to produce indexes based on the share of daily tweets containing specific expressions. We built a daily index using the expression `sin trabajo` on more than 671,000 Mexican tweets from May 2020. \n",
    "\n",
    "Moving on, while we focused on a relatively small-time period to limit computing power needs, we invite you to collect tweets for longer time periods. Also, we only focused on one expression for simplicity but feel free to try out several expressions as you see fit."
   ]
  }
 ],
 "metadata": {
  "kernelspec": {
   "display_name": "Python 3",
   "language": "python",
   "name": "python3"
  },
  "language_info": {
   "codemirror_mode": {
    "name": "ipython",
    "version": 3
   },
   "file_extension": ".py",
   "mimetype": "text/x-python",
   "name": "python",
   "nbconvert_exporter": "python",
   "pygments_lexer": "ipython3",
   "version": "3.8.5"
  }
 },
 "nbformat": 4,
 "nbformat_minor": 4
}
