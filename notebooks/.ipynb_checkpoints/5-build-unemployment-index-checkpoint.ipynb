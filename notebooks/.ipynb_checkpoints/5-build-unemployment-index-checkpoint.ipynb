{
 "cells": [
  {
   "cell_type": "markdown",
   "metadata": {},
   "source": [
    "# Notebook #5: build an unemployment index from Twitter data"
   ]
  },
  {
   "cell_type": "markdown",
   "metadata": {},
   "source": [
    "## Description:"
   ]
  },
  {
   "cell_type": "markdown",
   "metadata": {},
   "source": [
    "In this notebook, you will learn how to use tweets extracted with the Tweepy API to build an unemployment index for countries such as Mexico and Brazil. The method we will use consists in calculating the share of daily tweets containing a specific keyword or group of keywords (e.g. 'I lost my job'). This method is obviously simplistic and the output may not be compared with the unemployment rate defined by national statistical institutes. Yet, it provides timely information that can help predict future unemployment trends."
   ]
  },
  {
   "cell_type": "markdown",
   "metadata": {},
   "source": [
    "### Import modules"
   ]
  },
  {
   "cell_type": "code",
   "execution_count": 27,
   "metadata": {},
   "outputs": [],
   "source": [
    "import pandas as pd\n",
    "import os\n",
    "import matplotlib.pyplot as plt\n",
    "import seaborn as sns\n",
    "import matplotlib\n",
    "from pathlib import Path\n",
    "import pyarrow\n",
    "import findspark\n",
    "from pyspark.sql import SparkSession"
   ]
  },
  {
   "cell_type": "code",
   "execution_count": 28,
   "metadata": {},
   "outputs": [
    {
     "data": {
      "text/plain": [
       "'3.3.2'"
      ]
     },
     "execution_count": 28,
     "metadata": {},
     "output_type": "execute_result"
    }
   ],
   "source": [
    "matplotlib.__version__"
   ]
  },
  {
   "cell_type": "markdown",
   "metadata": {},
   "source": [
    "### Import data"
   ]
  },
  {
   "cell_type": "markdown",
   "metadata": {},
   "source": [
    "We have downloaded tweets using Tweepy and the Twitter Streaming API. The latter allows developers to download a high volume of real-time tweets. For more information, please refer to the part about the streaming API in notebook #1 and the [Twitter Streaming API Documentation](https://developer.twitter.com/en/docs/tweets/filter-realtime/overview).  "
   ]
  },
  {
   "cell_type": "markdown",
   "metadata": {},
   "source": [
    "We now load the tweets and store them in a Pandas dataframe."
   ]
  },
  {
   "cell_type": "code",
   "execution_count": 39,
   "metadata": {},
   "outputs": [
    {
     "data": {
      "text/html": [
       "<div>\n",
       "<style scoped>\n",
       "    .dataframe tbody tr th:only-of-type {\n",
       "        vertical-align: middle;\n",
       "    }\n",
       "\n",
       "    .dataframe tbody tr th {\n",
       "        vertical-align: top;\n",
       "    }\n",
       "\n",
       "    .dataframe thead th {\n",
       "        text-align: right;\n",
       "    }\n",
       "</style>\n",
       "<table border=\"1\" class=\"dataframe\">\n",
       "  <thead>\n",
       "    <tr style=\"text-align: right;\">\n",
       "      <th></th>\n",
       "      <th>created_at</th>\n",
       "      <th>id</th>\n",
       "      <th>id_str</th>\n",
       "      <th>full_text</th>\n",
       "      <th>truncated</th>\n",
       "      <th>display_text_range</th>\n",
       "      <th>entities</th>\n",
       "      <th>extended_entities</th>\n",
       "      <th>source</th>\n",
       "      <th>in_reply_to_status_id</th>\n",
       "      <th>...</th>\n",
       "      <th>retweet_count</th>\n",
       "      <th>favorite_count</th>\n",
       "      <th>favorited</th>\n",
       "      <th>retweeted</th>\n",
       "      <th>possibly_sensitive</th>\n",
       "      <th>lang</th>\n",
       "      <th>quoted_status_id</th>\n",
       "      <th>quoted_status_id_str</th>\n",
       "      <th>quoted_status_permalink</th>\n",
       "      <th>quoted_status</th>\n",
       "    </tr>\n",
       "  </thead>\n",
       "  <tbody>\n",
       "    <tr>\n",
       "      <th>0</th>\n",
       "      <td>Tue Dec 15 04:35:00 +0000 2020</td>\n",
       "      <td>1338704084283445248</td>\n",
       "      <td>1338704084283445248</td>\n",
       "      <td>Today, the members of the Electoral College ca...</td>\n",
       "      <td>False</td>\n",
       "      <td>[0, 277]</td>\n",
       "      <td>{'hashtags': [], 'symbols': [], 'user_mentions...</td>\n",
       "      <td>{'media': [{'id': 1338703104850661376, 'id_str...</td>\n",
       "      <td>&lt;a href=\"https://studio.twitter.com\" rel=\"nofo...</td>\n",
       "      <td>NaN</td>\n",
       "      <td>...</td>\n",
       "      <td>5416</td>\n",
       "      <td>59117</td>\n",
       "      <td>False</td>\n",
       "      <td>False</td>\n",
       "      <td>False</td>\n",
       "      <td>en</td>\n",
       "      <td>NaN</td>\n",
       "      <td>NaN</td>\n",
       "      <td>NaN</td>\n",
       "      <td>NaN</td>\n",
       "    </tr>\n",
       "    <tr>\n",
       "      <th>1</th>\n",
       "      <td>Tue Dec 15 03:30:00 +0000 2020</td>\n",
       "      <td>1338687727492075520</td>\n",
       "      <td>1338687727492075520</td>\n",
       "      <td>What beats deep in the hearts of the American ...</td>\n",
       "      <td>False</td>\n",
       "      <td>[0, 72]</td>\n",
       "      <td>{'hashtags': [], 'symbols': [], 'user_mentions...</td>\n",
       "      <td>{'media': [{'id': 1338685684413046787, 'id_str...</td>\n",
       "      <td>&lt;a href=\"https://studio.twitter.com\" rel=\"nofo...</td>\n",
       "      <td>NaN</td>\n",
       "      <td>...</td>\n",
       "      <td>2879</td>\n",
       "      <td>28288</td>\n",
       "      <td>False</td>\n",
       "      <td>False</td>\n",
       "      <td>False</td>\n",
       "      <td>en</td>\n",
       "      <td>NaN</td>\n",
       "      <td>NaN</td>\n",
       "      <td>NaN</td>\n",
       "      <td>NaN</td>\n",
       "    </tr>\n",
       "    <tr>\n",
       "      <th>2</th>\n",
       "      <td>Tue Dec 15 02:52:00 +0000 2020</td>\n",
       "      <td>1338678163329576961</td>\n",
       "      <td>1338678163329576961</td>\n",
       "      <td>In America, politicians don’t take power — the...</td>\n",
       "      <td>False</td>\n",
       "      <td>[0, 238]</td>\n",
       "      <td>{'hashtags': [], 'symbols': [], 'user_mentions...</td>\n",
       "      <td>NaN</td>\n",
       "      <td>&lt;a href=\"https://about.twitter.com/products/tw...</td>\n",
       "      <td>NaN</td>\n",
       "      <td>...</td>\n",
       "      <td>11862</td>\n",
       "      <td>122227</td>\n",
       "      <td>False</td>\n",
       "      <td>False</td>\n",
       "      <td>NaN</td>\n",
       "      <td>en</td>\n",
       "      <td>NaN</td>\n",
       "      <td>NaN</td>\n",
       "      <td>NaN</td>\n",
       "      <td>NaN</td>\n",
       "    </tr>\n",
       "    <tr>\n",
       "      <th>3</th>\n",
       "      <td>Tue Dec 15 00:29:07 +0000 2020</td>\n",
       "      <td>1338642204810596354</td>\n",
       "      <td>1338642204810596354</td>\n",
       "      <td>It’s official, folks. Tune in as I deliver rem...</td>\n",
       "      <td>False</td>\n",
       "      <td>[0, 172]</td>\n",
       "      <td>{'hashtags': [], 'symbols': [], 'user_mentions...</td>\n",
       "      <td>NaN</td>\n",
       "      <td>&lt;a href=\"https://periscope.tv\" rel=\"nofollow\"&gt;...</td>\n",
       "      <td>NaN</td>\n",
       "      <td>...</td>\n",
       "      <td>8735</td>\n",
       "      <td>94245</td>\n",
       "      <td>False</td>\n",
       "      <td>False</td>\n",
       "      <td>False</td>\n",
       "      <td>en</td>\n",
       "      <td>NaN</td>\n",
       "      <td>NaN</td>\n",
       "      <td>NaN</td>\n",
       "      <td>NaN</td>\n",
       "    </tr>\n",
       "    <tr>\n",
       "      <th>4</th>\n",
       "      <td>Mon Dec 14 23:30:00 +0000 2020</td>\n",
       "      <td>1338627329485012993</td>\n",
       "      <td>1338627329485012993</td>\n",
       "      <td>I’m forever humbled by the fact that 5.7 milli...</td>\n",
       "      <td>False</td>\n",
       "      <td>[0, 224]</td>\n",
       "      <td>{'hashtags': [], 'symbols': [], 'user_mentions...</td>\n",
       "      <td>NaN</td>\n",
       "      <td>&lt;a href=\"https://about.twitter.com/products/tw...</td>\n",
       "      <td>NaN</td>\n",
       "      <td>...</td>\n",
       "      <td>2756</td>\n",
       "      <td>33982</td>\n",
       "      <td>False</td>\n",
       "      <td>False</td>\n",
       "      <td>False</td>\n",
       "      <td>en</td>\n",
       "      <td>NaN</td>\n",
       "      <td>NaN</td>\n",
       "      <td>NaN</td>\n",
       "      <td>NaN</td>\n",
       "    </tr>\n",
       "  </tbody>\n",
       "</table>\n",
       "<p>5 rows × 30 columns</p>\n",
       "</div>"
      ],
      "text/plain": [
       "                       created_at                   id               id_str  \\\n",
       "0  Tue Dec 15 04:35:00 +0000 2020  1338704084283445248  1338704084283445248   \n",
       "1  Tue Dec 15 03:30:00 +0000 2020  1338687727492075520  1338687727492075520   \n",
       "2  Tue Dec 15 02:52:00 +0000 2020  1338678163329576961  1338678163329576961   \n",
       "3  Tue Dec 15 00:29:07 +0000 2020  1338642204810596354  1338642204810596354   \n",
       "4  Mon Dec 14 23:30:00 +0000 2020  1338627329485012993  1338627329485012993   \n",
       "\n",
       "                                           full_text  truncated  \\\n",
       "0  Today, the members of the Electoral College ca...      False   \n",
       "1  What beats deep in the hearts of the American ...      False   \n",
       "2  In America, politicians don’t take power — the...      False   \n",
       "3  It’s official, folks. Tune in as I deliver rem...      False   \n",
       "4  I’m forever humbled by the fact that 5.7 milli...      False   \n",
       "\n",
       "  display_text_range                                           entities  \\\n",
       "0           [0, 277]  {'hashtags': [], 'symbols': [], 'user_mentions...   \n",
       "1            [0, 72]  {'hashtags': [], 'symbols': [], 'user_mentions...   \n",
       "2           [0, 238]  {'hashtags': [], 'symbols': [], 'user_mentions...   \n",
       "3           [0, 172]  {'hashtags': [], 'symbols': [], 'user_mentions...   \n",
       "4           [0, 224]  {'hashtags': [], 'symbols': [], 'user_mentions...   \n",
       "\n",
       "                                   extended_entities  \\\n",
       "0  {'media': [{'id': 1338703104850661376, 'id_str...   \n",
       "1  {'media': [{'id': 1338685684413046787, 'id_str...   \n",
       "2                                                NaN   \n",
       "3                                                NaN   \n",
       "4                                                NaN   \n",
       "\n",
       "                                              source  in_reply_to_status_id  \\\n",
       "0  <a href=\"https://studio.twitter.com\" rel=\"nofo...                    NaN   \n",
       "1  <a href=\"https://studio.twitter.com\" rel=\"nofo...                    NaN   \n",
       "2  <a href=\"https://about.twitter.com/products/tw...                    NaN   \n",
       "3  <a href=\"https://periscope.tv\" rel=\"nofollow\">...                    NaN   \n",
       "4  <a href=\"https://about.twitter.com/products/tw...                    NaN   \n",
       "\n",
       "   ... retweet_count  favorite_count favorited retweeted possibly_sensitive  \\\n",
       "0  ...          5416           59117     False     False              False   \n",
       "1  ...          2879           28288     False     False              False   \n",
       "2  ...         11862          122227     False     False                NaN   \n",
       "3  ...          8735           94245     False     False              False   \n",
       "4  ...          2756           33982     False     False              False   \n",
       "\n",
       "  lang quoted_status_id quoted_status_id_str quoted_status_permalink  \\\n",
       "0   en              NaN                  NaN                     NaN   \n",
       "1   en              NaN                  NaN                     NaN   \n",
       "2   en              NaN                  NaN                     NaN   \n",
       "3   en              NaN                  NaN                     NaN   \n",
       "4   en              NaN                  NaN                     NaN   \n",
       "\n",
       "   quoted_status  \n",
       "0            NaN  \n",
       "1            NaN  \n",
       "2            NaN  \n",
       "3            NaN  \n",
       "4            NaN  \n",
       "\n",
       "[5 rows x 30 columns]"
      ]
     },
     "execution_count": 39,
     "metadata": {},
     "output_type": "execute_result"
    }
   ],
   "source": [
    "path_to_data = '/home/manuto/Documents/world_bank/repos/twitter-notebooks/data'\n",
    "biden_df = pd.read_pickle(os.path.join(path_to_data, 'timelines-1-5e50083d-07ce-413e-b052-c8fdca796b6d.pkl'))\n",
    "biden_df.head()"
   ]
  },
  {
   "cell_type": "markdown",
   "metadata": {},
   "source": [
    "The function below takes as input:\n",
    "- `df`: the data loaded above in dataframe format\n",
    "- `regex`: a keyword or regex in string format\n",
    "\n",
    "It then normalizes the dates, selects all tweets containing the `regex` string argument and computes the share of tweets containing the `regex` string per day. "
   ]
  },
  {
   "cell_type": "code",
   "execution_count": 40,
   "metadata": {},
   "outputs": [],
   "source": [
    "def build_ngram_timeseries(df, regex):\n",
    "    '''Build timeseries for input ngram.'''\n",
    "    # normalize date\n",
    "    df['created_at'] = pd.to_datetime(df['created_at'])\n",
    "    df['created_at'] = pd.DatetimeIndex(df.created_at).normalize()\n",
    "    # lowercase text\n",
    "    df['full_text'] = df['full_text'].str.lower()\n",
    "    # build indicator \n",
    "    df['contains_ngram'] = df.full_text.str.contains(regex)\n",
    "    df['contains_ngram'] = df['contains_ngram'].apply(lambda x: 1 if x else 0)\n",
    "    # keep relevant columns, rename and set date as index\n",
    "    df = df[['created_at', 'contains_ngram']]\n",
    "    df.columns = ['date', 'ngram_index']\n",
    "    df = df.set_index(['date'])\n",
    "    return df.groupby(df.index.date).mean()"
   ]
  },
  {
   "cell_type": "markdown",
   "metadata": {},
   "source": [
    "### Build and plot index"
   ]
  },
  {
   "cell_type": "markdown",
   "metadata": {},
   "source": [
    "Let's do an example with the share of Joe Biden's tweets containing the keyword 'pandemic'."
   ]
  },
  {
   "cell_type": "code",
   "execution_count": 46,
   "metadata": {},
   "outputs": [
    {
     "data": {
      "text/html": [
       "<div>\n",
       "<style scoped>\n",
       "    .dataframe tbody tr th:only-of-type {\n",
       "        vertical-align: middle;\n",
       "    }\n",
       "\n",
       "    .dataframe tbody tr th {\n",
       "        vertical-align: top;\n",
       "    }\n",
       "\n",
       "    .dataframe thead th {\n",
       "        text-align: right;\n",
       "    }\n",
       "</style>\n",
       "<table border=\"1\" class=\"dataframe\">\n",
       "  <thead>\n",
       "    <tr style=\"text-align: right;\">\n",
       "      <th></th>\n",
       "      <th>ngram_index</th>\n",
       "    </tr>\n",
       "  </thead>\n",
       "  <tbody>\n",
       "    <tr>\n",
       "      <th>2020-02-06</th>\n",
       "      <td>0.0</td>\n",
       "    </tr>\n",
       "    <tr>\n",
       "      <th>2020-02-07</th>\n",
       "      <td>0.0</td>\n",
       "    </tr>\n",
       "    <tr>\n",
       "      <th>2020-02-08</th>\n",
       "      <td>0.0</td>\n",
       "    </tr>\n",
       "    <tr>\n",
       "      <th>2020-02-09</th>\n",
       "      <td>0.0</td>\n",
       "    </tr>\n",
       "    <tr>\n",
       "      <th>2020-02-10</th>\n",
       "      <td>0.0</td>\n",
       "    </tr>\n",
       "    <tr>\n",
       "      <th>2020-02-11</th>\n",
       "      <td>0.0</td>\n",
       "    </tr>\n",
       "    <tr>\n",
       "      <th>2020-02-12</th>\n",
       "      <td>0.0</td>\n",
       "    </tr>\n",
       "    <tr>\n",
       "      <th>2020-02-13</th>\n",
       "      <td>0.0</td>\n",
       "    </tr>\n",
       "    <tr>\n",
       "      <th>2020-02-14</th>\n",
       "      <td>0.0</td>\n",
       "    </tr>\n",
       "    <tr>\n",
       "      <th>2020-02-15</th>\n",
       "      <td>0.0</td>\n",
       "    </tr>\n",
       "  </tbody>\n",
       "</table>\n",
       "</div>"
      ],
      "text/plain": [
       "            ngram_index\n",
       "2020-02-06          0.0\n",
       "2020-02-07          0.0\n",
       "2020-02-08          0.0\n",
       "2020-02-09          0.0\n",
       "2020-02-10          0.0\n",
       "2020-02-11          0.0\n",
       "2020-02-12          0.0\n",
       "2020-02-13          0.0\n",
       "2020-02-14          0.0\n",
       "2020-02-15          0.0"
      ]
     },
     "execution_count": 46,
     "metadata": {},
     "output_type": "execute_result"
    }
   ],
   "source": [
    "df = build_ngram_timeseries(biden_df, 'pandemic')\n",
    "df.head(n=10)"
   ]
  },
  {
   "cell_type": "markdown",
   "metadata": {},
   "source": [
    "As expected, we get a daily share (between 0 and 1) of Biden's tweets mentioning the word `pandemic` on the time period for which we collected data, that is roughly from February to December 2020. We now plot this share, with time as x-axis and the share of tweets containing the keyword `pandemic` as y-axis."
   ]
  },
  {
   "cell_type": "code",
   "execution_count": 48,
   "metadata": {},
   "outputs": [
    {
     "data": {
      "text/plain": [
       "<AxesSubplot:>"
      ]
     },
     "execution_count": 48,
     "metadata": {},
     "output_type": "execute_result"
    },
    {
     "data": {
      "image/png": "[encoded data removed]",
      "text/plain": [
       "<Figure size 792x288 with 1 Axes>"
      ]
     },
     "metadata": {},
     "output_type": "display_data"
    }
   ],
   "source": [
    "## sns.set(rc={'figure.figsize':(11, 4)})\n",
    "df['ngram_index'].plot(linewidth=0.5)"
   ]
  },
  {
   "cell_type": "markdown",
   "metadata": {},
   "source": [
    "As expected, there is no mention of the word `pandemic` before mid-March when the COVID-19 virus started to spread in Europe and the US. The word is then mentioned regularly in tweets, with a share ranging from 0 to 30 % from mid-March until early November. It is still mentioned regularly afterwards but with a higher share of tweets containing that word. This can reflect a real importance of this keyword, potentially caused by the second COVID-19 wave in the US but can also be explained by a lower number of tweets from Biden after the election."
   ]
  }
 ],
 "metadata": {
  "kernelspec": {
   "display_name": "Python 3",
   "language": "python",
   "name": "python3"
  },
  "language_info": {
   "codemirror_mode": {
    "name": "ipython",
    "version": 3
   },
   "file_extension": ".py",
   "mimetype": "text/x-python",
   "name": "python",
   "nbconvert_exporter": "python",
   "pygments_lexer": "ipython3",
   "version": "3.8.5"
  }
 },
 "nbformat": 4,
 "nbformat_minor": 4
}
