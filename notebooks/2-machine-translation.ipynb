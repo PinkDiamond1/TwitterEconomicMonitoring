{
 "cells": [
  {
   "cell_type": "markdown",
   "metadata": {
    "id": "W0esG1cHJEiU"
   },
   "source": [
    "[![Open In Colab](https://colab.research.google.com/assets/colab-badge.svg)](https://colab.research.google.com/drive/1ncxqqNM1NJpB1rzBayA2NnWRK3UE0IZs)"
   ]
  },
  {
   "cell_type": "markdown",
   "metadata": {
    "id": "LroOjRHFJEiW"
   },
   "source": [
    "# Notebook #2: machine translation"
   ]
  },
  {
   "cell_type": "markdown",
   "metadata": {
    "id": "rXUkB93QJEiY"
   },
   "source": [
    "## Description:"
   ]
  },
  {
   "cell_type": "markdown",
   "metadata": {
    "id": "ThsPi6rtJEiZ"
   },
   "source": [
    "In this notebook, we will show you how to translate text from one language to another in a few lines of code. We will use the `transformers` package from [Hugging Face](https://huggingface.co/) and load translation models trained by the [Language Technology Research Group at the University of Helsinki (Helsinki-NLP)](https://blogs.helsinki.fi/language-technology/)."
   ]
  },
  {
   "cell_type": "markdown",
   "metadata": {
    "id": "MUZ-_INJJukC"
   },
   "source": [
    "### Install packages"
   ]
  },
  {
   "cell_type": "code",
   "execution_count": 1,
   "metadata": {
    "colab": {
     "base_uri": "https://localhost:8080/"
    },
    "id": "bF7hQZwMJh4A",
    "outputId": "167c8514-6849-4074-ad30-b3de2aad05ea"
   },
   "outputs": [
    {
     "name": "stdout",
     "output_type": "stream",
     "text": [
      "Requirement already satisfied: transformers in c:\\users\\boris\\appdata\\local\\programs\\python\\python37\\lib\\site-packages (4.2.2)\n",
      "Requirement already satisfied: packaging in c:\\users\\boris\\appdata\\local\\programs\\python\\python37\\lib\\site-packages (from transformers) (20.9)\n",
      "Requirement already satisfied: filelock in c:\\users\\boris\\appdata\\local\\programs\\python\\python37\\lib\\site-packages (from transformers) (3.0.12)\n",
      "Requirement already satisfied: numpy in c:\\users\\boris\\appdata\\local\\programs\\python\\python37\\lib\\site-packages (from transformers) (1.19.5)\n",
      "Requirement already satisfied: importlib-metadata in c:\\users\\boris\\appdata\\local\\programs\\python\\python37\\lib\\site-packages (from transformers) (3.4.0)\n",
      "Requirement already satisfied: requests in c:\\users\\boris\\appdata\\local\\programs\\python\\python37\\lib\\site-packages (from transformers) (2.25.1)\n",
      "Requirement already satisfied: tokenizers==0.9.4 in c:\\users\\boris\\appdata\\local\\programs\\python\\python37\\lib\\site-packages (from transformers) (0.9.4)\n",
      "Requirement already satisfied: sacremoses in c:\\users\\boris\\appdata\\local\\programs\\python\\python37\\lib\\site-packages (from transformers) (0.0.43)\n",
      "Requirement already satisfied: regex!=2019.12.17 in c:\\users\\boris\\appdata\\local\\programs\\python\\python37\\lib\\site-packages (from transformers) (2020.11.13)\n",
      "Requirement already satisfied: tqdm>=4.27 in c:\\users\\boris\\appdata\\local\\programs\\python\\python37\\lib\\site-packages (from transformers) (4.56.0)\n",
      "Requirement already satisfied: zipp>=0.5 in c:\\users\\boris\\appdata\\local\\programs\\python\\python37\\lib\\site-packages (from importlib-metadata->transformers) (3.4.0)\n",
      "Requirement already satisfied: typing-extensions>=3.6.4 in c:\\users\\boris\\appdata\\local\\programs\\python\\python37\\lib\\site-packages (from importlib-metadata->transformers) (3.7.4.3)\n",
      "Requirement already satisfied: pyparsing>=2.0.2 in c:\\users\\boris\\appdata\\local\\programs\\python\\python37\\lib\\site-packages (from packaging->transformers) (2.4.7)\n",
      "Requirement already satisfied: urllib3<1.27,>=1.21.1 in c:\\users\\boris\\appdata\\local\\programs\\python\\python37\\lib\\site-packages (from requests->transformers) (1.26.3)\n",
      "Requirement already satisfied: idna<3,>=2.5 in c:\\users\\boris\\appdata\\local\\programs\\python\\python37\\lib\\site-packages (from requests->transformers) (2.10)\n",
      "Requirement already satisfied: certifi>=2017.4.17 in c:\\users\\boris\\appdata\\local\\programs\\python\\python37\\lib\\site-packages (from requests->transformers) (2020.12.5)\n",
      "Requirement already satisfied: chardet<5,>=3.0.2 in c:\\users\\boris\\appdata\\local\\programs\\python\\python37\\lib\\site-packages (from requests->transformers) (4.0.0)\n",
      "Requirement already satisfied: joblib in c:\\users\\boris\\appdata\\local\\programs\\python\\python37\\lib\\site-packages (from sacremoses->transformers) (1.0.0)\n",
      "Requirement already satisfied: click in c:\\users\\boris\\appdata\\local\\programs\\python\\python37\\lib\\site-packages (from sacremoses->transformers) (7.1.2)\n",
      "Requirement already satisfied: six in c:\\users\\boris\\appdata\\local\\programs\\python\\python37\\lib\\site-packages (from sacremoses->transformers) (1.15.0)\n",
      "Collecting sentencepiece\n",
      "  Downloading sentencepiece-0.1.95-cp37-cp37m-win_amd64.whl (1.2 MB)\n",
      "Installing collected packages: sentencepiece\n",
      "Successfully installed sentencepiece-0.1.95\n"
     ]
    }
   ],
   "source": [
    "!pip install transformers\n",
    "!pip install sentencepiece"
   ]
  },
  {
   "cell_type": "markdown",
   "metadata": {
    "id": "4LyQNuSOJEia"
   },
   "source": [
    "### Import modules"
   ]
  },
  {
   "cell_type": "code",
   "execution_count": null,
   "metadata": {
    "id": "4xJPnyyxJEia"
   },
   "outputs": [],
   "source": [
    "import transformers\n",
    "from transformers import MarianMTModel, MarianTokenizer\n",
    "from transformers.hf_api import HfApi"
   ]
  },
  {
   "cell_type": "code",
   "execution_count": null,
   "metadata": {
    "colab": {
     "base_uri": "https://localhost:8080/",
     "height": 37
    },
    "id": "NNSKusYJJEic",
    "outputId": "7483dc7e-6038-44be-fcd8-9cf718eef6c6"
   },
   "outputs": [
    {
     "data": {
      "application/vnd.google.colaboratory.intrinsic+json": {
       "type": "string"
      },
      "text/plain": [
       "'4.2.2'"
      ]
     },
     "execution_count": 3,
     "metadata": {
      "tags": []
     },
     "output_type": "execute_result"
    }
   ],
   "source": [
    "transformers.__version__"
   ]
  },
  {
   "cell_type": "markdown",
   "metadata": {
    "id": "S9Wv1RsaJEid"
   },
   "source": [
    "For this notebook, we are using the `4.2.2` version of the `transformers` [package](https://pypi.org/project/transformers/)."
   ]
  },
  {
   "cell_type": "markdown",
   "metadata": {
    "id": "evtZbuLwJEie"
   },
   "source": [
    "### Translation"
   ]
  },
  {
   "cell_type": "markdown",
   "metadata": {
    "id": "AYOFbQ2tJEie"
   },
   "source": [
    "The code below allows you to make use of the 1008 machine translation models covering 140 languages that Helsinki-NLP contributed to the Hugging Face model hub."
   ]
  },
  {
   "cell_type": "markdown",
   "metadata": {
    "id": "ms-NQjE7JEif"
   },
   "source": [
    "The `Translator` class takes two languages as input: the source language `src_language` which is the language of the source input and the target language `tgt_language`, which is the language to be translated to.\n",
    "\n",
    "It has two important methods:\n",
    "- `load_model` this method allows to load the model you want to use\n",
    "- `translate` this method uses the `loaded_model` to translate the `src_text` you gave as input."
   ]
  },
  {
   "cell_type": "code",
   "execution_count": null,
   "metadata": {
    "id": "xOo6BWkyJEif"
   },
   "outputs": [],
   "source": [
    "class Translator:\n",
    "    \n",
    "    model_list = HfApi().model_list()\n",
    "    valid_model_names = [x.modelId for x in model_list if x.modelId.startswith(\"Helsinki-NLP\")]\n",
    "    \n",
    "    def __init__(self, src_language, tgt_language):\n",
    "        self.src_language = src_language\n",
    "        self.tgt_language = tgt_language\n",
    "        self.model_name = f'Helsinki-NLP/opus-mt-{src_language}-{tgt_language}'\n",
    "        if self.model_name not in self.valid_model_names:\n",
    "            raise KeyError(f'{self.model_name} is not a valid model name.')\n",
    "\n",
    "    def load_model(self):\n",
    "        \"\"\"Load translation model and tokenizer.\"\"\"\n",
    "        tokenizer = MarianTokenizer.from_pretrained(self.model_name)\n",
    "        model = MarianMTModel.from_pretrained(self.model_name)\n",
    "        return tokenizer, model\n",
    "    \n",
    "    def translate(self, src_text, tokenizer, model):\n",
    "        \"\"\"Use loaded model and tokenizer to translate the source text.\"\"\"\n",
    "        translated = model.generate(**tokenizer.prepare_seq2seq_batch([src_text], return_tensors=\"pt\"))\n",
    "        return [tokenizer.decode(t, skip_special_tokens=True) for t in translated][0] \n",
    "        "
   ]
  },
  {
   "cell_type": "markdown",
   "metadata": {
    "id": "HwEf43RuJEig"
   },
   "source": [
    "We first instantiate the `Translator` class using as example English as the source language and French as the target language. \n",
    "\n",
    "Languages are defined by their ISO 639-1 codes (you can find a list of these codes for each language [here](https://en.wikipedia.org/wiki/List_of_ISO_639-1_codes)). Not all language combinations are available: please check the [model list](https://huggingface.co/Helsinki-NLP) from `Helsinki-NLP` to see if the combination you're interested in is available. The model names are defined as follows: `Helsinki-NLP/opus-mt-<ISO_CODE_SRC_LANG>-<ISO_CODE_TGT_LANG>`. For instance, to check whether translation from English (ISO 639_1 = `en`) to French ( ISO 639_1 = `fr`), look for `Helsinki-NLP/opus-mt-en-fr`. "
   ]
  },
  {
   "cell_type": "code",
   "execution_count": null,
   "metadata": {
    "colab": {
     "base_uri": "https://localhost:8080/"
    },
    "id": "tk4V79RQJEig",
    "outputId": "21321e02-d3a6-4d48-ee3b-cf99019f80e4"
   },
   "outputs": [
    {
     "name": "stdout",
     "output_type": "stream",
     "text": [
      "CPU times: user 20 µs, sys: 4 µs, total: 24 µs\n",
      "Wall time: 27.2 µs\n"
     ]
    }
   ],
   "source": [
    "%%time\n",
    "translator = Translator(src_language='es', tgt_language='en')"
   ]
  },
  {
   "cell_type": "markdown",
   "metadata": {
    "id": "fpz3AcSnJEii"
   },
   "source": [
    "After instantiating the `Translator` class, we load the translation model."
   ]
  },
  {
   "cell_type": "code",
   "execution_count": null,
   "metadata": {
    "id": "Bj1iZKGyJEii"
   },
   "outputs": [],
   "source": [
    "loaded_model = translator.load_model()"
   ]
  },
  {
   "cell_type": "markdown",
   "metadata": {
    "id": "yreaYUVCJEij"
   },
   "source": [
    "Finally, we use the loaded model to translate the source text (`src_text` argument) in string format:"
   ]
  },
  {
   "cell_type": "code",
   "execution_count": null,
   "metadata": {
    "colab": {
     "base_uri": "https://localhost:8080/",
     "height": 37
    },
    "id": "gJ7KDJ43JEij",
    "outputId": "3e679a6d-be66-4f78-9675-898abecd2443"
   },
   "outputs": [
    {
     "data": {
      "application/vnd.google.colaboratory.intrinsic+json": {
       "type": "string"
      },
      "text/plain": [
       "'Hi! I want to do a test to see if this translator works well.'"
      ]
     },
     "execution_count": 7,
     "metadata": {
      "tags": []
     },
     "output_type": "execute_result"
    }
   ],
   "source": [
    "tokenizer, model = loaded_model\n",
    "translator.translate(\n",
    "    \"Hola! Quiero hacer una prueba para ver si este traductor funciona bien.\",\n",
    "    tokenizer, model\n",
    "    )"
   ]
  },
  {
   "cell_type": "markdown",
   "metadata": {
    "id": "2XXsC2--JEik"
   },
   "source": [
    "## References:"
   ]
  },
  {
   "cell_type": "markdown",
   "metadata": {
    "id": "kGaD8LP7JEik"
   },
   "source": [
    "Jörg Tiedemann, & Santhosh Thottingal (2020). OPUS-MT — Building open translation services for the World. In Proceedings of the 22nd Annual Conferenec of the European Association for Machine Translation (EAMT)."
   ]
  },
  {
   "cell_type": "markdown",
   "metadata": {
    "id": "KiGWg2uMJEik"
   },
   "source": [
    "Thomas Wolf, Lysandre Debut, Victor Sanh, Julien Chaumond, Clement Delangue, Anthony Moi, Pierric Cistac, Tim Rault, Rémi Louf, Morgan Funtowicz, Joe Davison, Sam Shleifer, Patrick von Platen, Clara Ma, Yacine Jernite, Julien Plu, Canwen Xu, Teven Le Scao, Sylvain Gugger, Mariama Drame, Quentin Lhoest, & Alexander M. Rush (2020). Transformers: State-of-the-Art Natural Language Processing. In Proceedings of the 2020 Conference on Empirical Methods in Natural Language Processing: System Demonstrations (pp. 38–45). Association for Computational Linguistics."
   ]
  }
 ],
 "metadata": {
  "colab": {
   "collapsed_sections": [],
   "name": "2-machine-translation.ipynb",
   "provenance": [],
   "toc_visible": true
  },
  "kernelspec": {
   "display_name": "Python 3",
   "language": "python",
   "name": "python3"
  },
  "language_info": {
   "codemirror_mode": {
    "name": "ipython",
    "version": 3
   },
   "file_extension": ".py",
   "mimetype": "text/x-python",
   "name": "python",
   "nbconvert_exporter": "python",
   "pygments_lexer": "ipython3",
   "version": "3.8.5"
  }
 },
 "nbformat": 4,
 "nbformat_minor": 1
}